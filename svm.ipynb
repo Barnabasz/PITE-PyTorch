{
  "nbformat": 4,
  "nbformat_minor": 0,
  "metadata": {
    "colab": {
      "name": "svm.ipynb",
      "version": "0.3.2",
      "provenance": [],
      "collapsed_sections": []
    },
    "kernelspec": {
      "name": "python3",
      "display_name": "Python 3"
    }
  },
  "cells": [
    {
      "cell_type": "code",
      "metadata": {
        "id": "FZqwl_Czr_KR",
        "colab_type": "code",
        "colab": {}
      },
      "source": [
        "#!/usr/bin/env python3\n",
        "\n",
        "import pandas as pd\n",
        "import numpy as np\n",
        "import matplotlib.pyplot as plt\n",
        "from sklearn.model_selection import train_test_split\n",
        "from sklearn.preprocessing import StandardScaler\n",
        "from sklearn.metrics import confusion_matrix, classification_report, roc_curve, auc\n",
        "\n",
        "import sklearn.svm as svm\n"
      ],
      "execution_count": 0,
      "outputs": []
    },
    {
      "cell_type": "code",
      "metadata": {
        "id": "Fhdxag83Prkh",
        "colab_type": "code",
        "outputId": "028dd586-b68f-43bb-d704-540edf7669ea",
        "colab": {
          "base_uri": "https://localhost:8080/",
          "height": 35
        }
      },
      "source": [
        "from google.colab import drive\n",
        "drive.mount('/content/gdrive', force_remount=True)\n"
      ],
      "execution_count": 0,
      "outputs": [
        {
          "output_type": "stream",
          "text": [
            "Mounted at /content/gdrive\n"
          ],
          "name": "stdout"
        }
      ]
    },
    {
      "cell_type": "code",
      "metadata": {
        "id": "2NnFinBGsPKo",
        "colab_type": "code",
        "colab": {}
      },
      "source": [
        "train_data_file = \"/content/gdrive/My Drive/Pite projekt/data.csv\"\n",
        "data = pd.read_csv(train_data_file)\n"
      ],
      "execution_count": 0,
      "outputs": []
    },
    {
      "cell_type": "code",
      "metadata": {
        "id": "w76y_AsOv14Y",
        "colab_type": "code",
        "colab": {}
      },
      "source": [
        "data = data.sample(20000)\n",
        "\n",
        "features = data.drop([\"is_true_seed\",\"has_MCParticle\",\n",
        "                      \"is_downstream_reconstructible\",\n",
        "                      \"has_MCParticle_not_electron\",\n",
        "                     \"is_downstream_reconstructible_not_electron\",\n",
        "                     \"seed_mva_value\"] , axis=1).astype(np.float64)\n",
        "\n",
        "features = features.drop([\"seed_pt\", \"seed_nbIT\", \"seed_nLayers\"], axis = 1)\n",
        "\n",
        "target = data.is_downstream_reconstructible\n",
        "features = features.drop(features.columns[0], axis=1)\n",
        "X = features\n",
        "y = target\n",
        "scaler = StandardScaler()\n",
        "scaler.fit(X)\n",
        "X = scaler.transform(X)\n",
        "X_train, X_test, y_train, y_test = train_test_split(X, y, test_size = 0.2)\n"
      ],
      "execution_count": 0,
      "outputs": []
    },
    {
      "cell_type": "code",
      "metadata": {
        "id": "2VtqfijWuCN0",
        "colab_type": "code",
        "colab": {}
      },
      "source": [
        "nu_svc = svm.NuSVC(kernel='rbf', gamma='auto', probability=True, nu = 0.4)\n",
        "#reg = SVC(gamma='auto').fit(X_train,y_train)\n",
        "#reg = LinearSVC(max_iter=1000).fit(X,y)\n"
      ],
      "execution_count": 0,
      "outputs": []
    },
    {
      "cell_type": "code",
      "metadata": {
        "id": "W1UdOxOZSoKH",
        "colab_type": "code",
        "outputId": "340f702f-7d12-432d-910f-246f9671a81a",
        "colab": {
          "base_uri": "https://localhost:8080/",
          "height": 35
        }
      },
      "source": [
        "nu_svc.fit(X_train,y_train)\n",
        "predict = nu_svc.predict(X_test)\n",
        "nu_svc.score(X_test, y_test)"
      ],
      "execution_count": 0,
      "outputs": [
        {
          "output_type": "execute_result",
          "data": {
            "text/plain": [
              "0.80375"
            ]
          },
          "metadata": {
            "tags": []
          },
          "execution_count": 22
        }
      ]
    },
    {
      "cell_type": "code",
      "metadata": {
        "id": "eiH3ds3gS37H",
        "colab_type": "code",
        "outputId": "2897ea0d-806f-431d-cc84-ed835fd2e110",
        "colab": {
          "base_uri": "https://localhost:8080/",
          "height": 219
        }
      },
      "source": [
        "print(classification_report(y_test, predict))\n",
        "print(confusion_matrix(y_test, predict))"
      ],
      "execution_count": 0,
      "outputs": [
        {
          "output_type": "stream",
          "text": [
            "              precision    recall  f1-score   support\n",
            "\n",
            "       False       0.80      0.77      0.79      1877\n",
            "        True       0.80      0.84      0.82      2123\n",
            "\n",
            "    accuracy                           0.80      4000\n",
            "   macro avg       0.80      0.80      0.80      4000\n",
            "weighted avg       0.80      0.80      0.80      4000\n",
            "\n",
            "[[1442  435]\n",
            " [ 350 1773]]\n"
          ],
          "name": "stdout"
        }
      ]
    },
    {
      "cell_type": "code",
      "metadata": {
        "id": "nU0gfLEuyryo",
        "colab_type": "code",
        "colab": {}
      },
      "source": [
        "y_pred_proba = nu_svc.predict_proba(X_test)[::,1]\n",
        "fpr, tpr, _ = roc_curve(y_test,  y_pred_proba)"
      ],
      "execution_count": 0,
      "outputs": []
    },
    {
      "cell_type": "code",
      "metadata": {
        "id": "zoAqThqRWxnc",
        "colab_type": "code",
        "colab": {}
      },
      "source": [
        "def plot_roc(fpr, tpr):\n",
        "  plt.figure()\n",
        "  lw = 2\n",
        "  plt.plot(fpr, tpr, color='darkorange',\n",
        "           lw=lw, label='ROC curve (area = %0.2f)' % auc(fpr, tpr))\n",
        "  plt.plot([0, 1], [0, 1], color='navy', lw=lw, linestyle='--')\n",
        "  plt.xlim([0.0, 1.0])\n",
        "  plt.ylim([0.0, 1.05])\n",
        "  plt.xlabel('False Positive Rate')\n",
        "  plt.ylabel('True Positive Rate')\n",
        "  plt.title('Receiver operating characteristic')\n",
        "  plt.legend(loc=\"lower right\")\n",
        "  plt.show()\n",
        "\n"
      ],
      "execution_count": 0,
      "outputs": []
    },
    {
      "cell_type": "code",
      "metadata": {
        "id": "4cx4jGwY6BEx",
        "colab_type": "code",
        "outputId": "cb47658a-7a3f-4a07-a275-043ba97c1c37",
        "colab": {
          "base_uri": "https://localhost:8080/",
          "height": 295
        }
      },
      "source": [
        "plot_roc(fpr, tpr)"
      ],
      "execution_count": 0,
      "outputs": [
        {
          "output_type": "display_data",
          "data": {
            "image/png": "[encoded data removed]",
            "text/plain": [
              "<Figure size 432x288 with 1 Axes>"
            ]
          },
          "metadata": {
            "tags": []
          }
        }
      ]
    },
    {
      "cell_type": "code",
      "metadata": {
        "id": "tb6MPJS-ZTTB",
        "colab_type": "code",
        "colab": {}
      },
      "source": [
        ""
      ],
      "execution_count": 0,
      "outputs": []
    }
  ]
}
{
 "cells": [
  {
   "cell_type": "code",
   "execution_count": 1,
   "metadata": {},
   "outputs": [],
   "source": [
    "import torch\n",
    "import pandas as pd\n",
    "import numpy as np\n",
    "import matplotlib.pyplot as plt\n",
    "import statsmodels.formula.api as smf"
   ]
  },
  {
   "cell_type": "code",
   "execution_count": 2,
   "metadata": {},
   "outputs": [],
   "source": [
    "train_data_file = \"Brunel_BdJPsiKs_MagU_30k.csv\"\n",
    "data = pd.read_csv(train_data_file)\n",
    "features = data.drop([\"is_true_seed\",\"has_MCParticle\",\n",
    "                      \"is_downstream_reconstructible\",\n",
    "                      \"has_MCParticle_not_electron\",\n",
    "                     \"is_downstream_reconstructible_not_electron\",\n",
    "                     \"seed_mva_value\"] , axis=1).astype(np.float64)\n",
    "\n",
    "targets = data.is_downstream_reconstructible\n",
    "features = features.drop(features.columns[0], axis=1)\n"
   ]
  },
  {
   "cell_type": "code",
   "execution_count": 3,
   "metadata": {},
   "outputs": [],
   "source": [
    "features['seed_p'] = features['seed_p'].apply(lambda x: x if x < 50000 else None)\n",
    "features['seed_pt'] = features['seed_pt'].apply(lambda x: x if x < 8000 else None)"
   ]
  },
  {
   "cell_type": "code",
   "execution_count": 4,
   "metadata": {},
   "outputs": [
    {
     "data": {
      "text/html": [
       "<div>\n",
       "<style scoped>\n",
       "    .dataframe tbody tr th:only-of-type {\n",
       "        vertical-align: middle;\n",
       "    }\n",
       "\n",
       "    .dataframe tbody tr th {\n",
       "        vertical-align: top;\n",
       "    }\n",
       "\n",
       "    .dataframe thead th {\n",
       "        text-align: right;\n",
       "    }\n",
       "</style>\n",
       "<table border=\"1\" class=\"dataframe\">\n",
       "  <thead>\n",
       "    <tr style=\"text-align: right;\">\n",
       "      <th></th>\n",
       "      <th>seed_chi2PerDoF</th>\n",
       "      <th>seed_p</th>\n",
       "      <th>seed_pt</th>\n",
       "      <th>seed_nLHCbIDs</th>\n",
       "      <th>seed_nbIT</th>\n",
       "      <th>seed_nLayers</th>\n",
       "      <th>seed_x</th>\n",
       "      <th>seed_y</th>\n",
       "      <th>seed_tx</th>\n",
       "      <th>seed_ty</th>\n",
       "    </tr>\n",
       "  </thead>\n",
       "  <tbody>\n",
       "    <tr>\n",
       "      <th>0</th>\n",
       "      <td>1.447929</td>\n",
       "      <td>1849.101146</td>\n",
       "      <td>1083.522737</td>\n",
       "      <td>27.0</td>\n",
       "      <td>0.0</td>\n",
       "      <td>12.0</td>\n",
       "      <td>-1418.736880</td>\n",
       "      <td>-143.095899</td>\n",
       "      <td>-0.722093</td>\n",
       "      <td>-0.038671</td>\n",
       "    </tr>\n",
       "    <tr>\n",
       "      <th>1</th>\n",
       "      <td>0.354945</td>\n",
       "      <td>10085.622823</td>\n",
       "      <td>1345.148537</td>\n",
       "      <td>24.0</td>\n",
       "      <td>0.0</td>\n",
       "      <td>12.0</td>\n",
       "      <td>-393.699553</td>\n",
       "      <td>-284.193871</td>\n",
       "      <td>-0.129122</td>\n",
       "      <td>-0.037920</td>\n",
       "    </tr>\n",
       "    <tr>\n",
       "      <th>2</th>\n",
       "      <td>2.906524</td>\n",
       "      <td>2441.534682</td>\n",
       "      <td>1013.888408</td>\n",
       "      <td>24.0</td>\n",
       "      <td>0.0</td>\n",
       "      <td>12.0</td>\n",
       "      <td>-834.004914</td>\n",
       "      <td>-270.235334</td>\n",
       "      <td>-0.456235</td>\n",
       "      <td>-0.015198</td>\n",
       "    </tr>\n",
       "    <tr>\n",
       "      <th>3</th>\n",
       "      <td>3.234916</td>\n",
       "      <td>2604.073941</td>\n",
       "      <td>904.097232</td>\n",
       "      <td>24.0</td>\n",
       "      <td>0.0</td>\n",
       "      <td>12.0</td>\n",
       "      <td>-475.119652</td>\n",
       "      <td>-230.380918</td>\n",
       "      <td>-0.369728</td>\n",
       "      <td>-0.018967</td>\n",
       "    </tr>\n",
       "    <tr>\n",
       "      <th>4</th>\n",
       "      <td>0.842265</td>\n",
       "      <td>2644.554049</td>\n",
       "      <td>1068.602364</td>\n",
       "      <td>23.0</td>\n",
       "      <td>0.0</td>\n",
       "      <td>12.0</td>\n",
       "      <td>-899.187260</td>\n",
       "      <td>-101.826800</td>\n",
       "      <td>-0.440227</td>\n",
       "      <td>-0.036610</td>\n",
       "    </tr>\n",
       "  </tbody>\n",
       "</table>\n",
       "</div>"
      ],
      "text/plain": [
       "   seed_chi2PerDoF        seed_p      seed_pt  seed_nLHCbIDs  seed_nbIT  \\\n",
       "0         1.447929   1849.101146  1083.522737           27.0        0.0   \n",
       "1         0.354945  10085.622823  1345.148537           24.0        0.0   \n",
       "2         2.906524   2441.534682  1013.888408           24.0        0.0   \n",
       "3         3.234916   2604.073941   904.097232           24.0        0.0   \n",
       "4         0.842265   2644.554049  1068.602364           23.0        0.0   \n",
       "\n",
       "   seed_nLayers       seed_x      seed_y   seed_tx   seed_ty  \n",
       "0          12.0 -1418.736880 -143.095899 -0.722093 -0.038671  \n",
       "1          12.0  -393.699553 -284.193871 -0.129122 -0.037920  \n",
       "2          12.0  -834.004914 -270.235334 -0.456235 -0.015198  \n",
       "3          12.0  -475.119652 -230.380918 -0.369728 -0.018967  \n",
       "4          12.0  -899.187260 -101.826800 -0.440227 -0.036610  "
      ]
     },
     "execution_count": 4,
     "metadata": {},
     "output_type": "execute_result"
    }
   ],
   "source": [
    "features.head(5)"
   ]
  },
  {
   "cell_type": "code",
   "execution_count": 5,
   "metadata": {},
   "outputs": [
    {
     "data": {
      "text/plain": [
       "array([[<matplotlib.axes._subplots.AxesSubplot object at 0x000001E3776ED2E8>]],\n",
       "      dtype=object)"
      ]
     },
     "execution_count": 5,
     "metadata": {},
     "output_type": "execute_result"
    },
    {
     "data": {
      "image/png": "[encoded data removed]",
      "text/plain": [
       "<Figure size 432x288 with 1 Axes>"
      ]
     },
     "metadata": {
      "needs_background": "light"
     },
     "output_type": "display_data"
    }
   ],
   "source": [
    "features.hist(column=\"seed_chi2PerDoF\", bins=50)"
   ]
  },
  {
   "cell_type": "code",
   "execution_count": 6,
   "metadata": {},
   "outputs": [
    {
     "data": {
      "text/plain": [
       "array([[<matplotlib.axes._subplots.AxesSubplot object at 0x000001E30EC052B0>]],\n",
       "      dtype=object)"
      ]
     },
     "execution_count": 6,
     "metadata": {},
     "output_type": "execute_result"
    },
    {
     "data": {
      "image/png": "[encoded data removed]",
      "text/plain": [
       "<Figure size 432x288 with 1 Axes>"
      ]
     },
     "metadata": {
      "needs_background": "light"
     },
     "output_type": "display_data"
    }
   ],
   "source": [
    "features.hist(column=\"seed_p\", bins=150 )"
   ]
  },
  {
   "cell_type": "code",
   "execution_count": 7,
   "metadata": {},
   "outputs": [
    {
     "data": {
      "text/plain": [
       "array([[<matplotlib.axes._subplots.AxesSubplot object at 0x000001E30BAAA128>]],\n",
       "      dtype=object)"
      ]
     },
     "execution_count": 7,
     "metadata": {},
     "output_type": "execute_result"
    },
    {
     "data": {
      "image/png": "[encoded data removed]",
      "text/plain": [
       "<Figure size 432x288 with 1 Axes>"
      ]
     },
     "metadata": {
      "needs_background": "light"
     },
     "output_type": "display_data"
    }
   ],
   "source": [
    "features.hist(column=\"seed_pt\", bins=100 )"
   ]
  },
  {
   "cell_type": "code",
   "execution_count": 8,
   "metadata": {},
   "outputs": [
    {
     "data": {
      "text/plain": [
       "array([[<matplotlib.axes._subplots.AxesSubplot object at 0x000001E30BB49080>]],\n",
       "      dtype=object)"
      ]
     },
     "execution_count": 8,
     "metadata": {},
     "output_type": "execute_result"
    },
    {
     "data": {
      "image/png": "[encoded data removed]",
      "text/plain": [
       "<Figure size 432x288 with 1 Axes>"
      ]
     },
     "metadata": {
      "needs_background": "light"
     },
     "output_type": "display_data"
    }
   ],
   "source": [
    "features.hist(column=\"seed_nLHCbIDs\", bins=27 )"
   ]
  },
  {
   "cell_type": "code",
   "execution_count": null,
   "metadata": {},
   "outputs": [
    {
     "data": {
      "text/plain": [
       "array([[<matplotlib.axes._subplots.AxesSubplot object at 0x000001E30BCEEC88>]],\n",
       "      dtype=object)"
      ]
     },
     "execution_count": 9,
     "metadata": {},
     "output_type": "execute_result"
    },
    {
     "data": {
      "image/png": "[encoded data removed]",
      "text/plain": [
       "<Figure size 432x288 with 1 Axes>"
      ]
     },
     "metadata": {
      "needs_background": "light"
     },
     "output_type": "display_data"
    }
   ],
   "source": [
    "features.hist(column=\"seed_nbIT\", bins=9 )"
   ]
  },
  {
   "cell_type": "code",
   "execution_count": null,
   "metadata": {},
   "outputs": [
    {
     "data": {
      "text/plain": [
       "array([[<matplotlib.axes._subplots.AxesSubplot object at 0x000001E30BD4A898>]],\n",
       "      dtype=object)"
      ]
     },
     "execution_count": 10,
     "metadata": {},
     "output_type": "execute_result"
    },
    {
     "data": {
      "image/png": "[encoded data removed]",
      "text/plain": [
       "<Figure size 432x288 with 1 Axes>"
      ]
     },
     "metadata": {
      "needs_background": "light"
     },
     "output_type": "display_data"
    }
   ],
   "source": [
    "features.hist(column=\"seed_nLayers\", bins=5 )"
   ]
  },
  {
   "cell_type": "code",
   "execution_count": null,
   "metadata": {},
   "outputs": [
    {
     "data": {
      "text/plain": [
       "array([[<matplotlib.axes._subplots.AxesSubplot object at 0x000001E30BDB0400>,\n",
       "        <matplotlib.axes._subplots.AxesSubplot object at 0x000001E30BE5CBE0>],\n",
       "       [<matplotlib.axes._subplots.AxesSubplot object at 0x000001E30BE8E0F0>,\n",
       "        <matplotlib.axes._subplots.AxesSubplot object at 0x000001E30BEB4630>]],\n",
       "      dtype=object)"
      ]
     },
     "execution_count": 11,
     "metadata": {},
     "output_type": "execute_result"
    },
    {
     "data": {
      "image/png": "[encoded data removed]",
      "text/plain": [
       "<Figure size 432x288 with 4 Axes>"
      ]
     },
     "metadata": {
      "needs_background": "light"
     },
     "output_type": "display_data"
    }
   ],
   "source": [
    "features.hist(column=[\"seed_x\",\"seed_y\",\"seed_tx\",\"seed_ty\"], bins=20 )"
   ]
  },
  {
   "cell_type": "code",
   "execution_count": null,
   "metadata": {},
   "outputs": [
    {
     "data": {
      "image/png": "[encoded data removed]",
      "text/plain": [
       "<Figure size 432x288 with 2 Axes>"
      ]
     },
     "metadata": {
      "needs_background": "light"
     },
     "output_type": "display_data"
    }
   ],
   "source": [
    "corr = features.corr()\n",
    "fig = plt.figure()\n",
    "ax = fig.add_subplot(111)\n",
    "cax = ax.matshow(corr,cmap='coolwarm', vmin=-1, vmax=1)\n",
    "fig.colorbar(cax)\n",
    "ticks = np.arange(0,len(features.columns),1)\n",
    "ax.set_xticks(ticks)\n",
    "plt.xticks(rotation=90)\n",
    "ax.set_yticks(ticks)\n",
    "ax.set_xticklabels(features.columns)\n",
    "ax.set_yticklabels(features.columns)\n",
    "plt.show()"
   ]
  },
  {
   "cell_type": "code",
   "execution_count": null,
   "metadata": {},
   "outputs": [
    {
     "data": {
      "text/html": [
       "<div>\n",
       "<style scoped>\n",
       "    .dataframe tbody tr th:only-of-type {\n",
       "        vertical-align: middle;\n",
       "    }\n",
       "\n",
       "    .dataframe tbody tr th {\n",
       "        vertical-align: top;\n",
       "    }\n",
       "\n",
       "    .dataframe thead th {\n",
       "        text-align: right;\n",
       "    }\n",
       "</style>\n",
       "<table border=\"1\" class=\"dataframe\">\n",
       "  <thead>\n",
       "    <tr style=\"text-align: right;\">\n",
       "      <th></th>\n",
       "      <th>seed_chi2PerDoF</th>\n",
       "      <th>seed_p</th>\n",
       "      <th>seed_pt</th>\n",
       "      <th>seed_nLHCbIDs</th>\n",
       "      <th>seed_nbIT</th>\n",
       "      <th>seed_nLayers</th>\n",
       "      <th>seed_x</th>\n",
       "      <th>seed_y</th>\n",
       "      <th>seed_tx</th>\n",
       "      <th>seed_ty</th>\n",
       "    </tr>\n",
       "  </thead>\n",
       "  <tbody>\n",
       "    <tr>\n",
       "      <th>seed_chi2PerDoF</th>\n",
       "      <td>1.000000</td>\n",
       "      <td>-0.168171</td>\n",
       "      <td>-0.048529</td>\n",
       "      <td>-0.090742</td>\n",
       "      <td>-0.231934</td>\n",
       "      <td>-0.372478</td>\n",
       "      <td>0.004774</td>\n",
       "      <td>-0.017664</td>\n",
       "      <td>-0.003610</td>\n",
       "      <td>-0.017867</td>\n",
       "    </tr>\n",
       "    <tr>\n",
       "      <th>seed_p</th>\n",
       "      <td>-0.168171</td>\n",
       "      <td>1.000000</td>\n",
       "      <td>0.371866</td>\n",
       "      <td>-0.405521</td>\n",
       "      <td>0.521850</td>\n",
       "      <td>0.084393</td>\n",
       "      <td>0.001719</td>\n",
       "      <td>-0.000200</td>\n",
       "      <td>0.005764</td>\n",
       "      <td>0.000167</td>\n",
       "    </tr>\n",
       "    <tr>\n",
       "      <th>seed_pt</th>\n",
       "      <td>-0.048529</td>\n",
       "      <td>0.371866</td>\n",
       "      <td>1.000000</td>\n",
       "      <td>0.040746</td>\n",
       "      <td>-0.028086</td>\n",
       "      <td>0.057860</td>\n",
       "      <td>-0.001407</td>\n",
       "      <td>-0.006873</td>\n",
       "      <td>0.004056</td>\n",
       "      <td>-0.007513</td>\n",
       "    </tr>\n",
       "    <tr>\n",
       "      <th>seed_nLHCbIDs</th>\n",
       "      <td>-0.090742</td>\n",
       "      <td>-0.405521</td>\n",
       "      <td>0.040746</td>\n",
       "      <td>1.000000</td>\n",
       "      <td>-0.773850</td>\n",
       "      <td>0.479865</td>\n",
       "      <td>-0.009218</td>\n",
       "      <td>0.007668</td>\n",
       "      <td>-0.011906</td>\n",
       "      <td>0.007034</td>\n",
       "    </tr>\n",
       "    <tr>\n",
       "      <th>seed_nbIT</th>\n",
       "      <td>-0.231934</td>\n",
       "      <td>0.521850</td>\n",
       "      <td>-0.028086</td>\n",
       "      <td>-0.773850</td>\n",
       "      <td>1.000000</td>\n",
       "      <td>-0.002593</td>\n",
       "      <td>0.000799</td>\n",
       "      <td>0.004298</td>\n",
       "      <td>0.005162</td>\n",
       "      <td>0.004583</td>\n",
       "    </tr>\n",
       "    <tr>\n",
       "      <th>seed_nLayers</th>\n",
       "      <td>-0.372478</td>\n",
       "      <td>0.084393</td>\n",
       "      <td>0.057860</td>\n",
       "      <td>0.479865</td>\n",
       "      <td>-0.002593</td>\n",
       "      <td>1.000000</td>\n",
       "      <td>0.018730</td>\n",
       "      <td>0.010074</td>\n",
       "      <td>0.018991</td>\n",
       "      <td>0.010046</td>\n",
       "    </tr>\n",
       "    <tr>\n",
       "      <th>seed_x</th>\n",
       "      <td>0.004774</td>\n",
       "      <td>0.001719</td>\n",
       "      <td>-0.001407</td>\n",
       "      <td>-0.009218</td>\n",
       "      <td>0.000799</td>\n",
       "      <td>0.018730</td>\n",
       "      <td>1.000000</td>\n",
       "      <td>0.001248</td>\n",
       "      <td>0.805627</td>\n",
       "      <td>0.005492</td>\n",
       "    </tr>\n",
       "    <tr>\n",
       "      <th>seed_y</th>\n",
       "      <td>-0.017664</td>\n",
       "      <td>-0.000200</td>\n",
       "      <td>-0.006873</td>\n",
       "      <td>0.007668</td>\n",
       "      <td>0.004298</td>\n",
       "      <td>0.010074</td>\n",
       "      <td>0.001248</td>\n",
       "      <td>1.000000</td>\n",
       "      <td>0.000946</td>\n",
       "      <td>0.946097</td>\n",
       "    </tr>\n",
       "    <tr>\n",
       "      <th>seed_tx</th>\n",
       "      <td>-0.003610</td>\n",
       "      <td>0.005764</td>\n",
       "      <td>0.004056</td>\n",
       "      <td>-0.011906</td>\n",
       "      <td>0.005162</td>\n",
       "      <td>0.018991</td>\n",
       "      <td>0.805627</td>\n",
       "      <td>0.000946</td>\n",
       "      <td>1.000000</td>\n",
       "      <td>0.006356</td>\n",
       "    </tr>\n",
       "    <tr>\n",
       "      <th>seed_ty</th>\n",
       "      <td>-0.017867</td>\n",
       "      <td>0.000167</td>\n",
       "      <td>-0.007513</td>\n",
       "      <td>0.007034</td>\n",
       "      <td>0.004583</td>\n",
       "      <td>0.010046</td>\n",
       "      <td>0.005492</td>\n",
       "      <td>0.946097</td>\n",
       "      <td>0.006356</td>\n",
       "      <td>1.000000</td>\n",
       "    </tr>\n",
       "  </tbody>\n",
       "</table>\n",
       "</div>"
      ],
      "text/plain": [
       "                 seed_chi2PerDoF    seed_p   seed_pt  seed_nLHCbIDs  \\\n",
       "seed_chi2PerDoF         1.000000 -0.168171 -0.048529      -0.090742   \n",
       "seed_p                 -0.168171  1.000000  0.371866      -0.405521   \n",
       "seed_pt                -0.048529  0.371866  1.000000       0.040746   \n",
       "seed_nLHCbIDs          -0.090742 -0.405521  0.040746       1.000000   \n",
       "seed_nbIT              -0.231934  0.521850 -0.028086      -0.773850   \n",
       "seed_nLayers           -0.372478  0.084393  0.057860       0.479865   \n",
       "seed_x                  0.004774  0.001719 -0.001407      -0.009218   \n",
       "seed_y                 -0.017664 -0.000200 -0.006873       0.007668   \n",
       "seed_tx                -0.003610  0.005764  0.004056      -0.011906   \n",
       "seed_ty                -0.017867  0.000167 -0.007513       0.007034   \n",
       "\n",
       "                 seed_nbIT  seed_nLayers    seed_x    seed_y   seed_tx  \\\n",
       "seed_chi2PerDoF  -0.231934     -0.372478  0.004774 -0.017664 -0.003610   \n",
       "seed_p            0.521850      0.084393  0.001719 -0.000200  0.005764   \n",
       "seed_pt          -0.028086      0.057860 -0.001407 -0.006873  0.004056   \n",
       "seed_nLHCbIDs    -0.773850      0.479865 -0.009218  0.007668 -0.011906   \n",
       "seed_nbIT         1.000000     -0.002593  0.000799  0.004298  0.005162   \n",
       "seed_nLayers     -0.002593      1.000000  0.018730  0.010074  0.018991   \n",
       "seed_x            0.000799      0.018730  1.000000  0.001248  0.805627   \n",
       "seed_y            0.004298      0.010074  0.001248  1.000000  0.000946   \n",
       "seed_tx           0.005162      0.018991  0.805627  0.000946  1.000000   \n",
       "seed_ty           0.004583      0.010046  0.005492  0.946097  0.006356   \n",
       "\n",
       "                  seed_ty  \n",
       "seed_chi2PerDoF -0.017867  \n",
       "seed_p           0.000167  \n",
       "seed_pt         -0.007513  \n",
       "seed_nLHCbIDs    0.007034  \n",
       "seed_nbIT        0.004583  \n",
       "seed_nLayers     0.010046  \n",
       "seed_x           0.005492  \n",
       "seed_y           0.946097  \n",
       "seed_tx          0.006356  \n",
       "seed_ty          1.000000  "
      ]
     },
     "execution_count": 13,
     "metadata": {},
     "output_type": "execute_result"
    }
   ],
   "source": [
    "features.corr()"
   ]
  },
  {
   "cell_type": "code",
   "execution_count": null,
   "metadata": {},
   "outputs": [],
   "source": [
    "pd.plotting.scatter_matrix(features, figsize=(10, 10))\n",
    "plt.show()"
   ]
  },
  {
   "cell_type": "code",
   "execution_count": null,
   "metadata": {},
   "outputs": [],
   "source": []
  }
 ],
 "metadata": {
  "kernelspec": {
   "display_name": "Python 3",
   "language": "python",
   "name": "python3"
  },
  "language_info": {
   "codemirror_mode": {
    "name": "ipython",
    "version": 3
   },
   "file_extension": ".py",
   "mimetype": "text/x-python",
   "name": "python",
   "nbconvert_exporter": "python",
   "pygments_lexer": "ipython3",
   "version": "3.7.3"
  }
 },
 "nbformat": 4,
 "nbformat_minor": 2
}

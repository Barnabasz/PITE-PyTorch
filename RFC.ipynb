{
  "nbformat": 4,
  "nbformat_minor": 0,
  "metadata": {
    "colab": {
      "name": "RFC_SVC.ipynb",
      "version": "0.3.2",
      "provenance": [],
      "collapsed_sections": []
    },
    "kernelspec": {
      "name": "python3",
      "display_name": "Python 3"
    }
  },
  "cells": [
    {
      "cell_type": "code",
      "metadata": {
        "id": "Oi02zvb1sbst",
        "colab_type": "code",
        "colab": {}
      },
      "source": [
        "import numpy as np\n",
        "import pandas as pd\n",
        "import seaborn as sns\n",
        "import matplotlib.pyplot as plt\n",
        "from sklearn.metrics import confusion_matrix, classification_report, roc_curve, auc\n",
        "from sklearn.model_selection import train_test_split, GridSearchCV, RandomizedSearchCV\n",
        "from sklearn.ensemble import RandomForestClassifier\n",
        "from sklearn.preprocessing import StandardScaler\n",
        "from sklearn.neighbors import KNeighborsClassifier\n",
        "from sklearn.neural_network import MLPClassifier"
      ],
      "execution_count": 0,
      "outputs": []
    },
    {
      "cell_type": "code",
      "metadata": {
        "id": "5EjVffDbAPDe",
        "colab_type": "code",
        "outputId": "e80e0929-28ed-4e66-f697-3d1262e11a6a",
        "colab": {
          "base_uri": "https://localhost:8080/",
          "height": 122
        }
      },
      "source": [
        "from google.colab import drive\n",
        "drive.mount('/content/gdrive/', force_remount=True)"
      ],
      "execution_count": 2,
      "outputs": [
        {
          "output_type": "stream",
          "text": [
            "Go to this URL in a browser: https://accounts.google.com/o/oauth2/auth?client_id=947318989803-6bn6qk8qdgf4n4g3pfee6491hc0brc4i.apps.googleusercontent.com&redirect_uri=urn%3Aietf%3Awg%3Aoauth%3A2.0%3Aoob&scope=email%20https%3A%2F%2Fwww.googleapis.com%2Fauth%2Fdocs.test%20https%3A%2F%2Fwww.googleapis.com%2Fauth%2Fdrive%20https%3A%2F%2Fwww.googleapis.com%2Fauth%2Fdrive.photos.readonly%20https%3A%2F%2Fwww.googleapis.com%2Fauth%2Fpeopleapi.readonly&response_type=code\n",
            "\n",
            "Enter your authorization code:\n",
            "··········\n",
            "Mounted at /content/gdrive/\n"
          ],
          "name": "stdout"
        }
      ]
    },
    {
      "cell_type": "code",
      "metadata": {
        "id": "oZDZYgccAOf7",
        "colab_type": "code",
        "colab": {}
      },
      "source": [
        "train_data_file = \"/content/gdrive/My Drive/PITE/data.csv\"\n",
        "data = pd.read_csv(train_data_file).sample(100000)\n",
        "features = data.drop([\"is_true_seed\",\"has_MCParticle\",\n",
        "                      \"is_downstream_reconstructible\",\n",
        "                      \"has_MCParticle_not_electron\",\n",
        "                     \"is_downstream_reconstructible_not_electron\",\n",
        "                     \"seed_mva_value\", \"seed_p\",\n",
        "                     \"seed_nbIT\", \"seed_tx\", \"seed_ty\"], axis=1).astype(np.float64)\n",
        "y = data.is_downstream_reconstructible.values\n",
        "X = features.drop(features.columns[0], axis=1).values"
      ],
      "execution_count": 0,
      "outputs": []
    },
    {
      "cell_type": "code",
      "metadata": {
        "id": "wPop75UWA0M_",
        "colab_type": "code",
        "colab": {}
      },
      "source": [
        "X_train, X_test, y_train, y_test = train_test_split(X, y, test_size = 0.2)"
      ],
      "execution_count": 0,
      "outputs": []
    },
    {
      "cell_type": "markdown",
      "metadata": {
        "id": "NxzanazPPort",
        "colab_type": "text"
      },
      "source": [
        "**RandomForestClassifier**"
      ]
    },
    {
      "cell_type": "code",
      "metadata": {
        "id": "FwDAxA2RTKH2",
        "colab_type": "code",
        "colab": {}
      },
      "source": [
        "RFC = RandomForestClassifier(36)"
      ],
      "execution_count": 0,
      "outputs": []
    },
    {
      "cell_type": "code",
      "metadata": {
        "id": "vevV4jm2TU7i",
        "colab_type": "code",
        "colab": {}
      },
      "source": [
        "RFC.fit(X_train, y_train)\n",
        "pred_RFC = RFC.predict(X_test)"
      ],
      "execution_count": 0,
      "outputs": []
    },
    {
      "cell_type": "code",
      "metadata": {
        "id": "3RLWJBcTVFr1",
        "colab_type": "code",
        "outputId": "e1d1b6dc-366e-4098-8abf-5d2af0a23602",
        "colab": {
          "base_uri": "https://localhost:8080/",
          "height": 204
        }
      },
      "source": [
        "print(classification_report(y_test, pred_RFC))\n",
        "print(confusion_matrix(y_test, pred_RFC))\n"
      ],
      "execution_count": 7,
      "outputs": [
        {
          "output_type": "stream",
          "text": [
            "              precision    recall  f1-score   support\n",
            "\n",
            "       False       0.82      0.73      0.77      9227\n",
            "        True       0.79      0.86      0.82     10773\n",
            "\n",
            "    accuracy                           0.80     20000\n",
            "   macro avg       0.80      0.80      0.80     20000\n",
            "weighted avg       0.80      0.80      0.80     20000\n",
            "\n",
            "[[6705 2522]\n",
            " [1471 9302]]\n"
          ],
          "name": "stdout"
        }
      ]
    },
    {
      "cell_type": "code",
      "metadata": {
        "id": "OvWYF5-ToQCW",
        "colab_type": "code",
        "colab": {}
      },
      "source": [
        "proba = RFC.predict_proba(X_test)\n",
        "fpr, tpr, thresholds = roc_curve(y_test, proba[:,1])"
      ],
      "execution_count": 0,
      "outputs": []
    },
    {
      "cell_type": "code",
      "metadata": {
        "id": "kObW9JW4u38W",
        "colab_type": "code",
        "colab": {}
      },
      "source": [
        "def plot_roc(fpr, tpr):\n",
        "  plt.figure()\n",
        "  lw = 2\n",
        "  plt.plot(fpr, tpr, color='darkorange',\n",
        "           lw=lw, label='ROC curve (area = %0.2f)' % auc(fpr, tpr))\n",
        "  plt.plot([0, 1], [0, 1], color='navy', lw=lw, linestyle='--')\n",
        "  plt.xlim([0.0, 1.0])\n",
        "  plt.ylim([0.0, 1.05])\n",
        "  plt.xlabel('False Positive Rate')\n",
        "  plt.ylabel('True Positive Rate')\n",
        "  plt.title('Receiver operating characteristic example')\n",
        "  plt.legend(loc=\"lower right\")\n",
        "  plt.show()"
      ],
      "execution_count": 0,
      "outputs": []
    },
    {
      "cell_type": "code",
      "metadata": {
        "id": "mO2KRNycFLyb",
        "colab_type": "code",
        "colab": {
          "base_uri": "https://localhost:8080/",
          "height": 295
        },
        "outputId": "a638e2ff-2153-4821-f6b2-c94dbc650825"
      },
      "source": [
        "plot_roc(fpr, tpr)"
      ],
      "execution_count": 37,
      "outputs": [
        {
          "output_type": "display_data",
          "data": {
            "image/png": "[encoded data removed]",
            "text/plain": [
              "<Figure size 432x288 with 1 Axes>"
            ]
          },
          "metadata": {
            "tags": []
          }
        }
      ]
    },
    {
      "cell_type": "code",
      "metadata": {
        "id": "LotkzhNTGLhn",
        "colab_type": "code",
        "colab": {}
      },
      "source": [
        "param_grid = {\n",
        "    'max_depth': [80, 110, None],\n",
        "    'max_features': [3, \"auto\"],\n",
        "    'min_samples_leaf': [1, 3, 5],\n",
        "    'min_samples_split': [2, 5, 8],\n",
        "    'n_estimators': [30,  40, 50, 60]\n",
        "}\n",
        "RFCGS = RandomForestClassifier()"
      ],
      "execution_count": 0,
      "outputs": []
    },
    {
      "cell_type": "code",
      "metadata": {
        "id": "iEJYEIV_Gnw7",
        "colab_type": "code",
        "colab": {}
      },
      "source": [
        "grid_search = GridSearchCV(estimator = RFCGS, param_grid = param_grid, cv = 3, n_jobs = -1, verbose = 2)"
      ],
      "execution_count": 0,
      "outputs": []
    },
    {
      "cell_type": "code",
      "metadata": {
        "id": "syD3cX5OOXDk",
        "colab_type": "code",
        "colab": {}
      },
      "source": [
        "def evaluate(model, X_test, y_test):\n",
        "    predictions = model.predict(X_test)\n",
        "    print(classification_report(y_test, predictions))"
      ],
      "execution_count": 0,
      "outputs": []
    },
    {
      "cell_type": "code",
      "metadata": {
        "id": "UUmHDs-4G3Qx",
        "colab_type": "code",
        "outputId": "8ac966ae-9d37-475f-b2ad-4ae5177c622f",
        "colab": {
          "base_uri": "https://localhost:8080/",
          "height": 493
        }
      },
      "source": [
        "grid_search.fit(X_train, y_train)"
      ],
      "execution_count": 26,
      "outputs": [
        {
          "output_type": "stream",
          "text": [
            "Fitting 3 folds for each of 144 candidates, totalling 432 fits\n"
          ],
          "name": "stdout"
        },
        {
          "output_type": "stream",
          "text": [
            "[Parallel(n_jobs=-1)]: Using backend LokyBackend with 2 concurrent workers.\n",
            "[Parallel(n_jobs=-1)]: Done  37 tasks      | elapsed:  3.7min\n",
            "[Parallel(n_jobs=-1)]: Done 158 tasks      | elapsed: 13.5min\n",
            "[Parallel(n_jobs=-1)]: Done 361 tasks      | elapsed: 31.3min\n",
            "[Parallel(n_jobs=-1)]: Done 432 out of 432 | elapsed: 36.3min finished\n"
          ],
          "name": "stderr"
        },
        {
          "output_type": "execute_result",
          "data": {
            "text/plain": [
              "GridSearchCV(cv=3, error_score='raise-deprecating',\n",
              "             estimator=RandomForestClassifier(bootstrap=True, class_weight=None,\n",
              "                                              criterion='gini', max_depth=None,\n",
              "                                              max_features='auto',\n",
              "                                              max_leaf_nodes=None,\n",
              "                                              min_impurity_decrease=0.0,\n",
              "                                              min_impurity_split=None,\n",
              "                                              min_samples_leaf=1,\n",
              "                                              min_samples_split=2,\n",
              "                                              min_weight_fraction_leaf=0.0,\n",
              "                                              n_estimators='warn', n_jobs=None,\n",
              "                                              oob_score=False,\n",
              "                                              random_state=None, verbose=0,\n",
              "                                              warm_start=False),\n",
              "             iid='warn', n_jobs=-1,\n",
              "             param_grid={'max_depth': [80, 110, None],\n",
              "                         'max_features': [3, 'auto'],\n",
              "                         'min_samples_leaf': [1, 3, 5],\n",
              "                         'min_samples_split': [2, 8],\n",
              "                         'n_estimators': [30, 40, 50, 60]},\n",
              "             pre_dispatch='2*n_jobs', refit=True, return_train_score=False,\n",
              "             scoring=None, verbose=2)"
            ]
          },
          "metadata": {
            "tags": []
          },
          "execution_count": 26
        }
      ]
    },
    {
      "cell_type": "code",
      "metadata": {
        "id": "fIj9Az60N3m4",
        "colab_type": "code",
        "colab": {
          "base_uri": "https://localhost:8080/",
          "height": 102
        },
        "outputId": "b016a2fd-5297-4cc0-bae5-b9853038ef30"
      },
      "source": [
        "grid_search.best_params_"
      ],
      "execution_count": 43,
      "outputs": [
        {
          "output_type": "execute_result",
          "data": {
            "text/plain": [
              "{'max_depth': 110,\n",
              " 'max_features': 3,\n",
              " 'min_samples_leaf': 5,\n",
              " 'min_samples_split': 8,\n",
              " 'n_estimators': 40}"
            ]
          },
          "metadata": {
            "tags": []
          },
          "execution_count": 43
        }
      ]
    },
    {
      "cell_type": "code",
      "metadata": {
        "id": "X5XCjaeAOK1T",
        "colab_type": "code",
        "colab": {
          "base_uri": "https://localhost:8080/",
          "height": 170
        },
        "outputId": "be9b8fb8-52fa-42a7-c0a0-3681a90d07e8"
      },
      "source": [
        "best_grid = grid_search.best_estimator_\n",
        "evaluate(best_grid, X_test, y_test)"
      ],
      "execution_count": 35,
      "outputs": [
        {
          "output_type": "stream",
          "text": [
            "              precision    recall  f1-score   support\n",
            "\n",
            "       False       0.84      0.72      0.77      9227\n",
            "        True       0.78      0.89      0.83     10773\n",
            "\n",
            "    accuracy                           0.81     20000\n",
            "   macro avg       0.81      0.80      0.80     20000\n",
            "weighted avg       0.81      0.81      0.81     20000\n",
            "\n"
          ],
          "name": "stdout"
        }
      ]
    },
    {
      "cell_type": "code",
      "metadata": {
        "id": "fZIo1DSsFTmt",
        "colab_type": "code",
        "colab": {
          "base_uri": "https://localhost:8080/",
          "height": 295
        },
        "outputId": "e04e73da-ac05-4679-eb9c-f13e2d0070c2"
      },
      "source": [
        "proba = best_grid.predict_proba(X_test)\n",
        "fpr, tpr, thresholds = roc_curve(y_test, proba[:,1])\n",
        "plot_roc(fpr, tpr)"
      ],
      "execution_count": 45,
      "outputs": [
        {
          "output_type": "display_data",
          "data": {
            "image/png": "[encoded data removed]",
            "text/plain": [
              "<Figure size 432x288 with 1 Axes>"
            ]
          },
          "metadata": {
            "tags": []
          }
        }
      ]
    },
    {
      "cell_type": "code",
      "metadata": {
        "id": "ITtFgOH-jpS-",
        "colab_type": "code",
        "colab": {}
      },
      "source": [
        "RFCRS = RandomForestClassifier()\n",
        "random_grid = {\n",
        "    'criterion': \"entropy\",\n",
        "    'max_depth': [30, 40, 60, 80, 110, None],\n",
        "    'max_features': [3, 4, 2,  None, \"auto\"],\n",
        "    'min_samples_leaf': [1, 4, 2, 3, 5],\n",
        "    'min_samples_split': [2, 5, 8, 12],\n",
        "    'n_estimators': [30, 35, 40, 45, 50, 60, 80]\n",
        "}"
      ],
      "execution_count": 0,
      "outputs": []
    },
    {
      "cell_type": "code",
      "metadata": {
        "id": "SafAUDcfitWv",
        "colab_type": "code",
        "colab": {}
      },
      "source": [
        "random_search = RandomizedSearchCV(estimator = RFCRS, param_distributions = random_grid, n_iter = 100, cv = 3, verbose=2, random_state=42, n_jobs = -1)"
      ],
      "execution_count": 0,
      "outputs": []
    },
    {
      "cell_type": "code",
      "metadata": {
        "id": "4D4OlUVqlaJC",
        "colab_type": "code",
        "colab": {
          "base_uri": "https://localhost:8080/",
          "height": 595
        },
        "outputId": "f5d0b362-a7ce-465e-92dd-1ab637e75e05"
      },
      "source": [
        "random_search.fit(X_train, y_train)"
      ],
      "execution_count": 31,
      "outputs": [
        {
          "output_type": "stream",
          "text": [
            "Fitting 3 folds for each of 100 candidates, totalling 300 fits\n"
          ],
          "name": "stdout"
        },
        {
          "output_type": "stream",
          "text": [
            "[Parallel(n_jobs=-1)]: Using backend LokyBackend with 2 concurrent workers.\n",
            "[Parallel(n_jobs=-1)]: Done  37 tasks      | elapsed:  4.5min\n",
            "[Parallel(n_jobs=-1)]: Done 158 tasks      | elapsed: 17.8min\n",
            "/usr/local/lib/python3.6/dist-packages/joblib/externals/loky/process_executor.py:706: UserWarning: A worker stopped while some jobs were given to the executor. This can be caused by a too short worker timeout or by a memory leak.\n",
            "  \"timeout or by a memory leak.\", UserWarning\n",
            "[Parallel(n_jobs=-1)]: Done 300 out of 300 | elapsed: 34.4min finished\n"
          ],
          "name": "stderr"
        },
        {
          "output_type": "execute_result",
          "data": {
            "text/plain": [
              "RandomizedSearchCV(cv=3, error_score='raise-deprecating',\n",
              "                   estimator=RandomForestClassifier(bootstrap=True,\n",
              "                                                    class_weight=None,\n",
              "                                                    criterion='gini',\n",
              "                                                    max_depth=None,\n",
              "                                                    max_features='auto',\n",
              "                                                    max_leaf_nodes=None,\n",
              "                                                    min_impurity_decrease=0.0,\n",
              "                                                    min_impurity_split=None,\n",
              "                                                    min_samples_leaf=1,\n",
              "                                                    min_samples_split=2,\n",
              "                                                    min_weight_fraction_leaf=0.0,\n",
              "                                                    n_estimators='warn',\n",
              "                                                    n_jobs=None,\n",
              "                                                    oob_sc...\n",
              "                                                    verbose=0,\n",
              "                                                    warm_start=False),\n",
              "                   iid='warn', n_iter=100, n_jobs=-1,\n",
              "                   param_distributions={'max_depth': [30, 40, 60, 80, 110,\n",
              "                                                      None],\n",
              "                                        'max_features': [3, 4, 2, None, 'auto'],\n",
              "                                        'min_samples_leaf': [1, 4, 2, 3, 5],\n",
              "                                        'min_samples_split': [2, 5, 8, 12],\n",
              "                                        'n_estimators': [30, 35, 40, 45, 50, 60,\n",
              "                                                         80]},\n",
              "                   pre_dispatch='2*n_jobs', random_state=42, refit=True,\n",
              "                   return_train_score=False, scoring=None, verbose=2)"
            ]
          },
          "metadata": {
            "tags": []
          },
          "execution_count": 31
        }
      ]
    },
    {
      "cell_type": "code",
      "metadata": {
        "id": "0Vy422E75kfT",
        "colab_type": "code",
        "outputId": "88b647e5-c701-4714-e0ba-682307d92abd",
        "colab": {
          "base_uri": "https://localhost:8080/",
          "height": 102
        }
      },
      "source": [
        "random_search.best_params_"
      ],
      "execution_count": 42,
      "outputs": [
        {
          "output_type": "execute_result",
          "data": {
            "text/plain": [
              "{'max_depth': 80,\n",
              " 'max_features': 3,\n",
              " 'min_samples_leaf': 2,\n",
              " 'min_samples_split': 12,\n",
              " 'n_estimators': 80}"
            ]
          },
          "metadata": {
            "tags": []
          },
          "execution_count": 42
        }
      ]
    },
    {
      "cell_type": "code",
      "metadata": {
        "id": "VdMhuABp55FQ",
        "colab_type": "code",
        "outputId": "b189aed2-bc8b-4aa4-8a1e-9050314bce4f",
        "colab": {
          "base_uri": "https://localhost:8080/",
          "height": 170
        }
      },
      "source": [
        "best_grid_random = random_search.best_estimator_\n",
        "evaluate(best_grid, X_test, y_test)"
      ],
      "execution_count": 39,
      "outputs": [
        {
          "output_type": "stream",
          "text": [
            "              precision    recall  f1-score   support\n",
            "\n",
            "       False       0.84      0.72      0.77      9227\n",
            "        True       0.78      0.89      0.83     10773\n",
            "\n",
            "    accuracy                           0.81     20000\n",
            "   macro avg       0.81      0.80      0.80     20000\n",
            "weighted avg       0.81      0.81      0.81     20000\n",
            "\n"
          ],
          "name": "stdout"
        }
      ]
    },
    {
      "cell_type": "code",
      "metadata": {
        "id": "l_czO0xVFXSK",
        "colab_type": "code",
        "colab": {
          "base_uri": "https://localhost:8080/",
          "height": 295
        },
        "outputId": "a924f5c0-573c-4bff-a74c-71230be7b38f"
      },
      "source": [
        "proba = best_grid_random.predict_proba(X_test)\n",
        "fpr, tpr, thresholds = roc_curve(y_test, proba[:,1])\n",
        "plot_roc(fpr, tpr)"
      ],
      "execution_count": 44,
      "outputs": [
        {
          "output_type": "display_data",
          "data": {
            "image/png": "[encoded data removed]",
            "text/plain": [
              "<Figure size 432x288 with 1 Axes>"
            ]
          },
          "metadata": {
            "tags": []
          }
        }
      ]
    }
  ]
}
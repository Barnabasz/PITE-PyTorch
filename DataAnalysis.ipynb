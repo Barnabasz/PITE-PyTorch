{
 "cells": [
  {
   "cell_type": "code",
   "execution_count": 1,
   "metadata": {},
   "outputs": [],
   "source": [
    "\n",
    "import pandas as pd\n",
    "import numpy as np\n",
    "import matplotlib.pyplot as plt"
   ]
  },
  {
   "cell_type": "code",
   "execution_count": 2,
   "metadata": {},
   "outputs": [],
   "source": [
    "import torch\n",
    "from torch.utils.data import DataLoader, Dataset\n",
    "import torchvision\n",
    "from torchvision import transforms"
   ]
  },
  {
   "cell_type": "code",
   "execution_count": 3,
   "metadata": {},
   "outputs": [
    {
     "name": "stdout",
     "output_type": "stream",
     "text": [
      "True\n"
     ]
    }
   ],
   "source": [
    "print(torch.cuda.is_available())"
   ]
  },
  {
   "cell_type": "code",
   "execution_count": 4,
   "metadata": {},
   "outputs": [],
   "source": [
    "train_data_file = \"Brunel_BdJPsiKs_MagU_30k.csv\"\n",
    "data = pd.read_csv(train_data_file)\n",
    "features = data.drop([\"is_true_seed\",\"has_MCParticle\",\n",
    "                      \"is_downstream_reconstructible\",\n",
    "                      \"has_MCParticle_not_electron\",\n",
    "                     \"seed_mva_value\"] , axis=1).astype(np.float64)\n",
    "targets = data.is_downstream_reconstructible\n",
    "features = features.drop(features.columns[0], axis=1)"
   ]
  },
  {
   "cell_type": "code",
   "execution_count": 5,
   "metadata": {},
   "outputs": [],
   "source": [
    "\n",
    "featuresT = features[features.is_downstream_reconstructible_not_electron == 1].drop([\"is_downstream_reconstructible_not_electron\"], axis = 1)\n",
    "featuresF = features[features.is_downstream_reconstructible_not_electron == 0].drop([\"is_downstream_reconstructible_not_electron\"], axis = 1)\n",
    "features = features.drop([\"is_downstream_reconstructible_not_electron\"], axis=1)"
   ]
  },
  {
   "cell_type": "code",
   "execution_count": 6,
   "metadata": {},
   "outputs": [],
   "source": [
    "def drawPlot(coll, binsnum, xmax = None, xmin = 0):\n",
    "    T = featuresT[coll].values\n",
    "    F = featuresF[coll].values\n",
    "    if xmax != None:\n",
    "        plt.hist(T, bins = binsnum, alpha=0.5, label='T', range = (xmin, xmax))\n",
    "        plt.hist(F, bins = binsnum, alpha=0.5, label='F', range = (xmin, xmax))\n",
    "    else:\n",
    "        plt.hist(T, bins = binsnum, alpha=0.5, label='T')\n",
    "        plt.hist(F, bins = binsnum, alpha=0.5, label='F')\n",
    "    plt.legend(loc='upper right')\n",
    "    plt.title(coll)\n",
    "    plt.show()"
   ]
  },
  {
   "cell_type": "code",
   "execution_count": 7,
   "metadata": {},
   "outputs": [
    {
     "data": {
      "text/html": [
       "<div>\n",
       "<style scoped>\n",
       "    .dataframe tbody tr th:only-of-type {\n",
       "        vertical-align: middle;\n",
       "    }\n",
       "\n",
       "    .dataframe tbody tr th {\n",
       "        vertical-align: top;\n",
       "    }\n",
       "\n",
       "    .dataframe thead th {\n",
       "        text-align: right;\n",
       "    }\n",
       "</style>\n",
       "<table border=\"1\" class=\"dataframe\">\n",
       "  <thead>\n",
       "    <tr style=\"text-align: right;\">\n",
       "      <th></th>\n",
       "      <th>seed_chi2PerDoF</th>\n",
       "      <th>seed_p</th>\n",
       "      <th>seed_pt</th>\n",
       "      <th>seed_nLHCbIDs</th>\n",
       "      <th>seed_nbIT</th>\n",
       "      <th>seed_nLayers</th>\n",
       "      <th>seed_x</th>\n",
       "      <th>seed_y</th>\n",
       "      <th>seed_tx</th>\n",
       "      <th>seed_ty</th>\n",
       "    </tr>\n",
       "  </thead>\n",
       "  <tbody>\n",
       "    <tr>\n",
       "      <th>1</th>\n",
       "      <td>0.354945</td>\n",
       "      <td>10085.622823</td>\n",
       "      <td>1345.148537</td>\n",
       "      <td>24.0</td>\n",
       "      <td>0.0</td>\n",
       "      <td>12.0</td>\n",
       "      <td>-393.699553</td>\n",
       "      <td>-284.193871</td>\n",
       "      <td>-0.129122</td>\n",
       "      <td>-0.037920</td>\n",
       "    </tr>\n",
       "    <tr>\n",
       "      <th>2</th>\n",
       "      <td>2.906524</td>\n",
       "      <td>2441.534682</td>\n",
       "      <td>1013.888408</td>\n",
       "      <td>24.0</td>\n",
       "      <td>0.0</td>\n",
       "      <td>12.0</td>\n",
       "      <td>-834.004914</td>\n",
       "      <td>-270.235334</td>\n",
       "      <td>-0.456235</td>\n",
       "      <td>-0.015198</td>\n",
       "    </tr>\n",
       "    <tr>\n",
       "      <th>8</th>\n",
       "      <td>1.378484</td>\n",
       "      <td>3299.094845</td>\n",
       "      <td>1225.976276</td>\n",
       "      <td>22.0</td>\n",
       "      <td>0.0</td>\n",
       "      <td>12.0</td>\n",
       "      <td>1082.763604</td>\n",
       "      <td>-285.861222</td>\n",
       "      <td>0.398849</td>\n",
       "      <td>-0.033741</td>\n",
       "    </tr>\n",
       "    <tr>\n",
       "      <th>9</th>\n",
       "      <td>1.879188</td>\n",
       "      <td>7168.990553</td>\n",
       "      <td>1161.375854</td>\n",
       "      <td>18.0</td>\n",
       "      <td>0.0</td>\n",
       "      <td>10.0</td>\n",
       "      <td>354.869485</td>\n",
       "      <td>-429.609191</td>\n",
       "      <td>0.155524</td>\n",
       "      <td>-0.052568</td>\n",
       "    </tr>\n",
       "    <tr>\n",
       "      <th>10</th>\n",
       "      <td>3.885850</td>\n",
       "      <td>6557.645783</td>\n",
       "      <td>1297.828111</td>\n",
       "      <td>18.0</td>\n",
       "      <td>0.0</td>\n",
       "      <td>11.0</td>\n",
       "      <td>-651.661886</td>\n",
       "      <td>-61.990891</td>\n",
       "      <td>-0.201860</td>\n",
       "      <td>0.004238</td>\n",
       "    </tr>\n",
       "  </tbody>\n",
       "</table>\n",
       "</div>"
      ],
      "text/plain": [
       "    seed_chi2PerDoF        seed_p      seed_pt  seed_nLHCbIDs  seed_nbIT  \\\n",
       "1          0.354945  10085.622823  1345.148537           24.0        0.0   \n",
       "2          2.906524   2441.534682  1013.888408           24.0        0.0   \n",
       "8          1.378484   3299.094845  1225.976276           22.0        0.0   \n",
       "9          1.879188   7168.990553  1161.375854           18.0        0.0   \n",
       "10         3.885850   6557.645783  1297.828111           18.0        0.0   \n",
       "\n",
       "    seed_nLayers       seed_x      seed_y   seed_tx   seed_ty  \n",
       "1           12.0  -393.699553 -284.193871 -0.129122 -0.037920  \n",
       "2           12.0  -834.004914 -270.235334 -0.456235 -0.015198  \n",
       "8           12.0  1082.763604 -285.861222  0.398849 -0.033741  \n",
       "9           10.0   354.869485 -429.609191  0.155524 -0.052568  \n",
       "10          11.0  -651.661886  -61.990891 -0.201860  0.004238  "
      ]
     },
     "execution_count": 7,
     "metadata": {},
     "output_type": "execute_result"
    }
   ],
   "source": [
    "featuresT.head(5)\n"
   ]
  },
  {
   "cell_type": "code",
   "execution_count": 8,
   "metadata": {},
   "outputs": [
    {
     "data": {
      "text/html": [
       "<div>\n",
       "<style scoped>\n",
       "    .dataframe tbody tr th:only-of-type {\n",
       "        vertical-align: middle;\n",
       "    }\n",
       "\n",
       "    .dataframe tbody tr th {\n",
       "        vertical-align: top;\n",
       "    }\n",
       "\n",
       "    .dataframe thead th {\n",
       "        text-align: right;\n",
       "    }\n",
       "</style>\n",
       "<table border=\"1\" class=\"dataframe\">\n",
       "  <thead>\n",
       "    <tr style=\"text-align: right;\">\n",
       "      <th></th>\n",
       "      <th>seed_chi2PerDoF</th>\n",
       "      <th>seed_p</th>\n",
       "      <th>seed_pt</th>\n",
       "      <th>seed_nLHCbIDs</th>\n",
       "      <th>seed_nbIT</th>\n",
       "      <th>seed_nLayers</th>\n",
       "      <th>seed_x</th>\n",
       "      <th>seed_y</th>\n",
       "      <th>seed_tx</th>\n",
       "      <th>seed_ty</th>\n",
       "    </tr>\n",
       "  </thead>\n",
       "  <tbody>\n",
       "    <tr>\n",
       "      <th>0</th>\n",
       "      <td>1.447929</td>\n",
       "      <td>1849.101146</td>\n",
       "      <td>1083.522737</td>\n",
       "      <td>27.0</td>\n",
       "      <td>0.0</td>\n",
       "      <td>12.0</td>\n",
       "      <td>-1418.736880</td>\n",
       "      <td>-143.095899</td>\n",
       "      <td>-0.722093</td>\n",
       "      <td>-0.038671</td>\n",
       "    </tr>\n",
       "    <tr>\n",
       "      <th>3</th>\n",
       "      <td>3.234916</td>\n",
       "      <td>2604.073941</td>\n",
       "      <td>904.097232</td>\n",
       "      <td>24.0</td>\n",
       "      <td>0.0</td>\n",
       "      <td>12.0</td>\n",
       "      <td>-475.119652</td>\n",
       "      <td>-230.380918</td>\n",
       "      <td>-0.369728</td>\n",
       "      <td>-0.018967</td>\n",
       "    </tr>\n",
       "    <tr>\n",
       "      <th>4</th>\n",
       "      <td>0.842265</td>\n",
       "      <td>2644.554049</td>\n",
       "      <td>1068.602364</td>\n",
       "      <td>23.0</td>\n",
       "      <td>0.0</td>\n",
       "      <td>12.0</td>\n",
       "      <td>-899.187260</td>\n",
       "      <td>-101.826800</td>\n",
       "      <td>-0.440227</td>\n",
       "      <td>-0.036610</td>\n",
       "    </tr>\n",
       "    <tr>\n",
       "      <th>5</th>\n",
       "      <td>1.006955</td>\n",
       "      <td>2192.137688</td>\n",
       "      <td>1073.852847</td>\n",
       "      <td>23.0</td>\n",
       "      <td>0.0</td>\n",
       "      <td>12.0</td>\n",
       "      <td>1150.390040</td>\n",
       "      <td>-134.681106</td>\n",
       "      <td>0.561625</td>\n",
       "      <td>-0.017649</td>\n",
       "    </tr>\n",
       "    <tr>\n",
       "      <th>6</th>\n",
       "      <td>1.072540</td>\n",
       "      <td>2665.828607</td>\n",
       "      <td>1207.615135</td>\n",
       "      <td>23.0</td>\n",
       "      <td>0.0</td>\n",
       "      <td>11.0</td>\n",
       "      <td>-1317.489095</td>\n",
       "      <td>-95.556751</td>\n",
       "      <td>-0.507878</td>\n",
       "      <td>-0.015790</td>\n",
       "    </tr>\n",
       "  </tbody>\n",
       "</table>\n",
       "</div>"
      ],
      "text/plain": [
       "   seed_chi2PerDoF       seed_p      seed_pt  seed_nLHCbIDs  seed_nbIT  \\\n",
       "0         1.447929  1849.101146  1083.522737           27.0        0.0   \n",
       "3         3.234916  2604.073941   904.097232           24.0        0.0   \n",
       "4         0.842265  2644.554049  1068.602364           23.0        0.0   \n",
       "5         1.006955  2192.137688  1073.852847           23.0        0.0   \n",
       "6         1.072540  2665.828607  1207.615135           23.0        0.0   \n",
       "\n",
       "   seed_nLayers       seed_x      seed_y   seed_tx   seed_ty  \n",
       "0          12.0 -1418.736880 -143.095899 -0.722093 -0.038671  \n",
       "3          12.0  -475.119652 -230.380918 -0.369728 -0.018967  \n",
       "4          12.0  -899.187260 -101.826800 -0.440227 -0.036610  \n",
       "5          12.0  1150.390040 -134.681106  0.561625 -0.017649  \n",
       "6          11.0 -1317.489095  -95.556751 -0.507878 -0.015790  "
      ]
     },
     "execution_count": 8,
     "metadata": {},
     "output_type": "execute_result"
    }
   ],
   "source": [
    "featuresF.head(5)"
   ]
  },
  {
   "cell_type": "code",
   "execution_count": 9,
   "metadata": {},
   "outputs": [
    {
     "data": {
      "image/png": "[encoded data removed]",
      "text/plain": [
       "<Figure size 432x288 with 1 Axes>"
      ]
     },
     "metadata": {
      "needs_background": "light"
     },
     "output_type": "display_data"
    }
   ],
   "source": [
    "drawPlot(\"seed_chi2PerDoF\", 50, 9)"
   ]
  },
  {
   "cell_type": "code",
   "execution_count": 10,
   "metadata": {},
   "outputs": [
    {
     "data": {
      "image/png": "[encoded data removed]",
      "text/plain": [
       "<Figure size 432x288 with 1 Axes>"
      ]
     },
     "metadata": {
      "needs_background": "light"
     },
     "output_type": "display_data"
    }
   ],
   "source": [
    "drawPlot(\"seed_p\", 150, 80000)"
   ]
  },
  {
   "cell_type": "code",
   "execution_count": 11,
   "metadata": {},
   "outputs": [
    {
     "data": {
      "image/png": "[encoded data removed]",
      "text/plain": [
       "<Figure size 432x288 with 1 Axes>"
      ]
     },
     "metadata": {
      "needs_background": "light"
     },
     "output_type": "display_data"
    }
   ],
   "source": [
    "drawPlot(\"seed_pt\", 100, 7000)"
   ]
  },
  {
   "cell_type": "code",
   "execution_count": 12,
   "metadata": {},
   "outputs": [
    {
     "data": {
      "image/png": "[encoded data removed]",
      "text/plain": [
       "<Figure size 432x288 with 1 Axes>"
      ]
     },
     "metadata": {
      "needs_background": "light"
     },
     "output_type": "display_data"
    }
   ],
   "source": [
    "drawPlot(\"seed_nLHCbIDs\", 23, 29, 7)"
   ]
  },
  {
   "cell_type": "code",
   "execution_count": 13,
   "metadata": {},
   "outputs": [
    {
     "data": {
      "image/png": "[encoded data removed]",
      "text/plain": [
       "<Figure size 432x288 with 1 Axes>"
      ]
     },
     "metadata": {
      "needs_background": "light"
     },
     "output_type": "display_data"
    }
   ],
   "source": [
    "drawPlot(\"seed_nbIT\", 10, 15)"
   ]
  },
  {
   "cell_type": "code",
   "execution_count": 14,
   "metadata": {},
   "outputs": [
    {
     "data": {
      "image/png": "[encoded data removed]",
      "text/plain": [
       "<Figure size 432x288 with 1 Axes>"
      ]
     },
     "metadata": {
      "needs_background": "light"
     },
     "output_type": "display_data"
    }
   ],
   "source": [
    "drawPlot(\"seed_nLayers\", 5, 12, 8)"
   ]
  },
  {
   "cell_type": "code",
   "execution_count": 15,
   "metadata": {},
   "outputs": [
    {
     "data": {
      "image/png": "[encoded data removed]",
      "text/plain": [
       "<Figure size 432x288 with 1 Axes>"
      ]
     },
     "metadata": {
      "needs_background": "light"
     },
     "output_type": "display_data"
    },
    {
     "data": {
      "image/png": "[encoded data removed]",
      "text/plain": [
       "<Figure size 432x288 with 1 Axes>"
      ]
     },
     "metadata": {
      "needs_background": "light"
     },
     "output_type": "display_data"
    },
    {
     "data": {
      "image/png": "[encoded data removed]",
      "text/plain": [
       "<Figure size 432x288 with 1 Axes>"
      ]
     },
     "metadata": {
      "needs_background": "light"
     },
     "output_type": "display_data"
    },
    {
     "data": {
      "image/png": "[encoded data removed]",
      "text/plain": [
       "<Figure size 432x288 with 1 Axes>"
      ]
     },
     "metadata": {
      "needs_background": "light"
     },
     "output_type": "display_data"
    }
   ],
   "source": [
    "drawPlot(\"seed_x\", 200)\n",
    "drawPlot(\"seed_y\", 200)\n",
    "drawPlot(\"seed_tx\", 200)\n",
    "drawPlot(\"seed_ty\", 200)"
   ]
  },
  {
   "cell_type": "code",
   "execution_count": 16,
   "metadata": {},
   "outputs": [
    {
     "data": {
      "image/png": "[encoded data removed]",
      "text/plain": [
       "<Figure size 432x288 with 2 Axes>"
      ]
     },
     "metadata": {
      "needs_background": "light"
     },
     "output_type": "display_data"
    }
   ],
   "source": [
    "corr = featuresT.corr()\n",
    "fig = plt.figure()\n",
    "ax = fig.add_subplot(111)\n",
    "cax = ax.matshow(corr,cmap='coolwarm', vmin=-1, vmax=1)\n",
    "fig.colorbar(cax)\n",
    "ticks = np.arange(0,len(featuresT.columns),1)\n",
    "ax.set_xticks(ticks)\n",
    "plt.xticks(rotation=90)\n",
    "ax.set_yticks(ticks)\n",
    "ax.set_xticklabels(featuresT.columns)\n",
    "ax.set_yticklabels(featuresT.columns)\n",
    "plt.show()"
   ]
  },
  {
   "cell_type": "code",
   "execution_count": 17,
   "metadata": {},
   "outputs": [
    {
     "data": {
      "image/png": "[encoded data removed]",
      "text/plain": [
       "<Figure size 432x288 with 2 Axes>"
      ]
     },
     "metadata": {
      "needs_background": "light"
     },
     "output_type": "display_data"
    }
   ],
   "source": [
    "corr = featuresF.corr()\n",
    "fig = plt.figure()\n",
    "ax = fig.add_subplot(111)\n",
    "cax = ax.matshow(corr,cmap='coolwarm', vmin=-1, vmax=1)\n",
    "fig.colorbar(cax)\n",
    "ticks = np.arange(0,len(featuresF.columns),1)\n",
    "ax.set_xticks(ticks)\n",
    "plt.xticks(rotation=90)\n",
    "ax.set_yticks(ticks)\n",
    "ax.set_xticklabels(featuresF.columns)\n",
    "ax.set_yticklabels(featuresF.columns)\n",
    "plt.show()"
   ]
  },
  {
   "cell_type": "code",
   "execution_count": 18,
   "metadata": {},
   "outputs": [
    {
     "data": {
      "text/html": [
       "<div>\n",
       "<style scoped>\n",
       "    .dataframe tbody tr th:only-of-type {\n",
       "        vertical-align: middle;\n",
       "    }\n",
       "\n",
       "    .dataframe tbody tr th {\n",
       "        vertical-align: top;\n",
       "    }\n",
       "\n",
       "    .dataframe thead th {\n",
       "        text-align: right;\n",
       "    }\n",
       "</style>\n",
       "<table border=\"1\" class=\"dataframe\">\n",
       "  <thead>\n",
       "    <tr style=\"text-align: right;\">\n",
       "      <th></th>\n",
       "      <th>seed_chi2PerDoF</th>\n",
       "      <th>seed_p</th>\n",
       "      <th>seed_nLHCbIDs</th>\n",
       "      <th>seed_nLayers</th>\n",
       "      <th>seed_x</th>\n",
       "      <th>seed_y</th>\n",
       "    </tr>\n",
       "  </thead>\n",
       "  <tbody>\n",
       "    <tr>\n",
       "      <th>0</th>\n",
       "      <td>1.447929</td>\n",
       "      <td>1849.101146</td>\n",
       "      <td>27.0</td>\n",
       "      <td>12.0</td>\n",
       "      <td>-1418.736880</td>\n",
       "      <td>-143.095899</td>\n",
       "    </tr>\n",
       "    <tr>\n",
       "      <th>1</th>\n",
       "      <td>0.354945</td>\n",
       "      <td>10085.622823</td>\n",
       "      <td>24.0</td>\n",
       "      <td>12.0</td>\n",
       "      <td>-393.699553</td>\n",
       "      <td>-284.193871</td>\n",
       "    </tr>\n",
       "    <tr>\n",
       "      <th>2</th>\n",
       "      <td>2.906524</td>\n",
       "      <td>2441.534682</td>\n",
       "      <td>24.0</td>\n",
       "      <td>12.0</td>\n",
       "      <td>-834.004914</td>\n",
       "      <td>-270.235334</td>\n",
       "    </tr>\n",
       "    <tr>\n",
       "      <th>3</th>\n",
       "      <td>3.234916</td>\n",
       "      <td>2604.073941</td>\n",
       "      <td>24.0</td>\n",
       "      <td>12.0</td>\n",
       "      <td>-475.119652</td>\n",
       "      <td>-230.380918</td>\n",
       "    </tr>\n",
       "    <tr>\n",
       "      <th>4</th>\n",
       "      <td>0.842265</td>\n",
       "      <td>2644.554049</td>\n",
       "      <td>23.0</td>\n",
       "      <td>12.0</td>\n",
       "      <td>-899.187260</td>\n",
       "      <td>-101.826800</td>\n",
       "    </tr>\n",
       "  </tbody>\n",
       "</table>\n",
       "</div>"
      ],
      "text/plain": [
       "   seed_chi2PerDoF        seed_p  seed_nLHCbIDs  seed_nLayers       seed_x  \\\n",
       "0         1.447929   1849.101146           27.0          12.0 -1418.736880   \n",
       "1         0.354945  10085.622823           24.0          12.0  -393.699553   \n",
       "2         2.906524   2441.534682           24.0          12.0  -834.004914   \n",
       "3         3.234916   2604.073941           24.0          12.0  -475.119652   \n",
       "4         0.842265   2644.554049           23.0          12.0  -899.187260   \n",
       "\n",
       "       seed_y  \n",
       "0 -143.095899  \n",
       "1 -284.193871  \n",
       "2 -270.235334  \n",
       "3 -230.380918  \n",
       "4 -101.826800  "
      ]
     },
     "execution_count": 18,
     "metadata": {},
     "output_type": "execute_result"
    }
   ],
   "source": [
    "features = features.drop([\"seed_pt\", \"seed_nbIT\", \"seed_tx\", \"seed_ty\"], axis = 1)\n",
    "features.head()\n"
   ]
  },
  {
   "cell_type": "code",
   "execution_count": 19,
   "metadata": {},
   "outputs": [],
   "source": [
    "features = torch.from_numpy(features.values).float()\n",
    "targets = torch.from_numpy(targets.values).float()"
   ]
  }
 ],
 "metadata": {
  "kernelspec": {
   "display_name": "Python 3",
   "language": "python",
   "name": "python3"
  },
  "language_info": {
   "codemirror_mode": {
    "name": "ipython",
    "version": 3
   },
   "file_extension": ".py",
   "mimetype": "text/x-python",
   "name": "python",
   "nbconvert_exporter": "python",
   "pygments_lexer": "ipython3",
   "version": "3.6.7"
  }
 },
 "nbformat": 4,
 "nbformat_minor": 2
}

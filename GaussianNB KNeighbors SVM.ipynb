{
  "nbformat": 4,
  "nbformat_minor": 0,
  "metadata": {
    "colab": {
      "name": "pite_projekt.ipynb",
      "version": "0.3.2",
      "provenance": [],
      "collapsed_sections": [],
      "machine_shape": "hm"
    },
    "kernelspec": {
      "name": "python3",
      "display_name": "Python 3"
    }
  },
  "cells": [
    {
      "cell_type": "code",
      "metadata": {
        "id": "BhMvMIA5rHcx",
        "colab_type": "code",
        "colab": {}
      },
      "source": [
        "import numpy as np\n",
        "import pandas as pd\n",
        "import seaborn as sns\n",
        "import matplotlib.pyplot as plt\n",
        "from sklearn.metrics import confusion_matrix, classification_report, roc_curve, auc\n",
        "from sklearn.metrics import accuracy_score,recall_score,precision_score,f1_score\n",
        "from sklearn.naive_bayes import GaussianNB\n",
        "from sklearn.naive_bayes import BernoulliNB\n",
        "from sklearn.naive_bayes import MultinomialNB\n",
        "from sklearn.naive_bayes import ComplementNB\n",
        "from sklearn.neighbors.classification import KNeighborsClassifier\n",
        "from sklearn.preprocessing import StandardScaler\n",
        "from sklearn.preprocessing import MinMaxScaler\n",
        "from sklearn.model_selection import GridSearchCV\n",
        "from sklearn.model_selection import RandomizedSearchCV\n",
        "from sklearn.model_selection import train_test_split"
      ],
      "execution_count": 0,
      "outputs": []
    },
    {
      "cell_type": "code",
      "metadata": {
        "id": "qoBVYTGfrl53",
        "colab_type": "code",
        "outputId": "0266c33d-ae56-4773-8007-216eae3052e5",
        "colab": {
          "base_uri": "https://localhost:8080/",
          "height": 122
        }
      },
      "source": [
        "from google.colab import drive\n",
        "drive.mount('/content/gdrive/', force_remount=True)"
      ],
      "execution_count": 2,
      "outputs": [
        {
          "output_type": "stream",
          "text": [
            "Go to this URL in a browser: https://accounts.google.com/o/oauth2/auth?client_id=947318989803-6bn6qk8qdgf4n4g3pfee6491hc0brc4i.apps.googleusercontent.com&redirect_uri=urn%3Aietf%3Awg%3Aoauth%3A2.0%3Aoob&scope=email%20https%3A%2F%2Fwww.googleapis.com%2Fauth%2Fdocs.test%20https%3A%2F%2Fwww.googleapis.com%2Fauth%2Fdrive%20https%3A%2F%2Fwww.googleapis.com%2Fauth%2Fdrive.photos.readonly%20https%3A%2F%2Fwww.googleapis.com%2Fauth%2Fpeopleapi.readonly&response_type=code\n",
            "\n",
            "Enter your authorization code:\n",
            "··········\n",
            "Mounted at /content/gdrive/\n"
          ],
          "name": "stdout"
        }
      ]
    },
    {
      "cell_type": "code",
      "metadata": {
        "id": "KEesEGHYsw-f",
        "colab_type": "code",
        "outputId": "41959101-258e-4dfc-fb99-8d377779f3e1",
        "colab": {
          "base_uri": "https://localhost:8080/",
          "height": 187
        }
      },
      "source": [
        "train_data_file = \"/content/gdrive/My Drive/pite_projekt/data.csv\"\n",
        "data = pd.read_csv(train_data_file).sample(100000)\n",
        "print(data.columns)\n",
        "features = data.drop([\"is_true_seed\",\"has_MCParticle\",\n",
        "                      \"is_downstream_reconstructible\",\n",
        "                      \"has_MCParticle_not_electron\",\n",
        "                     \"is_downstream_reconstructible_not_electron\",\n",
        "                     \"seed_mva_value\", \"seed_p\",\n",
        "                     \"seed_nbIT\", \"seed_tx\", \"seed_ty\"], axis=1).astype(np.float64)\n",
        "print(features.columns)\n",
        "y = data.is_downstream_reconstructible.values\n",
        "X = features.drop(features.columns[0], axis=1).values"
      ],
      "execution_count": 3,
      "outputs": [
        {
          "output_type": "stream",
          "text": [
            "Index(['Unnamed: 0', 'has_MCParticle', 'is_downstream_reconstructible',\n",
            "       'has_MCParticle_not_electron',\n",
            "       'is_downstream_reconstructible_not_electron', 'is_true_seed',\n",
            "       'seed_chi2PerDoF', 'seed_p', 'seed_pt', 'seed_nLHCbIDs', 'seed_nbIT',\n",
            "       'seed_nLayers', 'seed_x', 'seed_y', 'seed_tx', 'seed_ty',\n",
            "       'seed_mva_value'],\n",
            "      dtype='object')\n",
            "Index(['Unnamed: 0', 'seed_chi2PerDoF', 'seed_pt', 'seed_nLHCbIDs',\n",
            "       'seed_nLayers', 'seed_x', 'seed_y'],\n",
            "      dtype='object')\n"
          ],
          "name": "stdout"
        }
      ]
    },
    {
      "cell_type": "code",
      "metadata": {
        "id": "Kn8Q0HuQs_Sj",
        "colab_type": "code",
        "outputId": "3672096e-5bc1-471c-f1fb-174217f90607",
        "colab": {
          "base_uri": "https://localhost:8080/",
          "height": 136
        }
      },
      "source": [
        "scaler = StandardScaler()\n",
        "scaler.fit(X)\n",
        "X = scaler.transform(X)\n",
        "print(X)\n",
        "X_train, X_test, y_train, y_test = train_test_split(X, y, test_size = 0.2)"
      ],
      "execution_count": 84,
      "outputs": [
        {
          "output_type": "stream",
          "text": [
            "[[ 0.26586665 -0.03961703  0.44012665  0.71745571 -0.33344103 -0.21736944]\n",
            " [-0.36484339 -0.04666028  1.5135225   0.71745571  1.53629648  0.24685122]\n",
            " [-1.07221474 -0.03181138 -1.27730671  0.71745571 -0.11586523  0.28014955]\n",
            " ...\n",
            " [-0.65915597 -0.00704931 -1.70666505 -2.20874528  0.25213029  0.20073798]\n",
            " [-0.44045687 -0.04117637  0.22544748 -1.23334495  1.16016717 -0.13516968]\n",
            " [-0.31648836  0.00680843  1.08416416  0.71745571  2.18379819 -1.12108815]]\n"
          ],
          "name": "stdout"
        }
      ]
    },
    {
      "cell_type": "code",
      "metadata": {
        "id": "Molpvqyw4xPy",
        "colab_type": "code",
        "colab": {}
      },
      "source": [
        "clf = GaussianNB()\n",
        "grid_values = {'var_smoothing' : [1e-4, 1e-5, 1e-6, 1e-7, 1e-8, 1e-9, 1e-10, 1e-11]}\n",
        "grid_clf_acc = GridSearchCV(clf, param_grid = grid_values, cv = 3, n_jobs = -1, verbose = 2)\n"
      ],
      "execution_count": 0,
      "outputs": []
    },
    {
      "cell_type": "code",
      "metadata": {
        "id": "oLL7_RObY7Di",
        "colab_type": "code",
        "colab": {
          "base_uri": "https://localhost:8080/",
          "height": 204
        },
        "outputId": "9420ac5c-44cc-42bb-e839-8a51adf1231f"
      },
      "source": [
        "grid_clf_acc.fit(X_train, y_train)"
      ],
      "execution_count": 74,
      "outputs": [
        {
          "output_type": "stream",
          "text": [
            "Fitting 3 folds for each of 8 candidates, totalling 24 fits\n"
          ],
          "name": "stdout"
        },
        {
          "output_type": "stream",
          "text": [
            "[Parallel(n_jobs=-1)]: Using backend LokyBackend with 4 concurrent workers.\n",
            "[Parallel(n_jobs=-1)]: Done   4 out of  24 | elapsed:    0.1s remaining:    0.4s\n",
            "[Parallel(n_jobs=-1)]: Done  24 out of  24 | elapsed:    0.3s finished\n"
          ],
          "name": "stderr"
        },
        {
          "output_type": "execute_result",
          "data": {
            "text/plain": [
              "GridSearchCV(cv=3, error_score='raise-deprecating',\n",
              "             estimator=GaussianNB(priors=None, var_smoothing=1e-09), iid='warn',\n",
              "             n_jobs=-1,\n",
              "             param_grid={'var_smoothing': [0.0001, 1e-05, 1e-06, 1e-07, 1e-08,\n",
              "                                           1e-09, 1e-10, 1e-11]},\n",
              "             pre_dispatch='2*n_jobs', refit=True, return_train_score=False,\n",
              "             scoring=None, verbose=2)"
            ]
          },
          "metadata": {
            "tags": []
          },
          "execution_count": 74
        }
      ]
    },
    {
      "cell_type": "code",
      "metadata": {
        "id": "VGZNZ9Do7NjL",
        "colab_type": "code",
        "outputId": "471f735e-52f3-4c07-b3f2-88161f5efe51",
        "colab": {
          "base_uri": "https://localhost:8080/",
          "height": 204
        }
      },
      "source": [
        "pred_clf = grid_clf_acc.predict(X_test)\n",
        "print(classification_report(y_test, pred_clf))\n",
        "print(confusion_matrix(y_test, pred_clf))"
      ],
      "execution_count": 75,
      "outputs": [
        {
          "output_type": "stream",
          "text": [
            "              precision    recall  f1-score   support\n",
            "\n",
            "       False       0.74      0.50      0.60      9221\n",
            "        True       0.67      0.85      0.75     10779\n",
            "\n",
            "    accuracy                           0.69     20000\n",
            "   macro avg       0.70      0.68      0.67     20000\n",
            "weighted avg       0.70      0.69      0.68     20000\n",
            "\n",
            "[[4638 4583]\n",
            " [1613 9166]]\n"
          ],
          "name": "stdout"
        }
      ]
    },
    {
      "cell_type": "code",
      "metadata": {
        "id": "Cus4w94e7aZY",
        "colab_type": "code",
        "colab": {}
      },
      "source": [
        "proba = grid_clf_acc.predict_proba(X_test)\n",
        "fpr, tpr, thresholds = roc_curve(y_test, proba[:,1])"
      ],
      "execution_count": 0,
      "outputs": []
    },
    {
      "cell_type": "code",
      "metadata": {
        "id": "xb-_Etc-aSfC",
        "colab_type": "code",
        "colab": {
          "base_uri": "https://localhost:8080/",
          "height": 85
        },
        "outputId": "97cc9d0e-e4b6-4987-b920-6a60967f3f3c"
      },
      "source": [
        "print('Accuracy Score : ' + str(accuracy_score(y_test, pred_clf)))\n",
        "print('Precision Score : ' + str(precision_score(y_test, pred_clf)))\n",
        "print('Recall Score : ' + str(recall_score(y_test, pred_clf)))\n",
        "print('F1 Score : ' + str(f1_score(y_test, pred_clf)))"
      ],
      "execution_count": 80,
      "outputs": [
        {
          "output_type": "stream",
          "text": [
            "Accuracy Score : 0.6902\n",
            "Precision Score : 0.6666666666666666\n",
            "Recall Score : 0.8503571759903517\n",
            "F1 Score : 0.7473907371167644\n"
          ],
          "name": "stdout"
        }
      ]
    },
    {
      "cell_type": "code",
      "metadata": {
        "id": "39TKxO967kXa",
        "colab_type": "code",
        "outputId": "f206b5ef-b982-465b-8973-65804a0559f1",
        "colab": {
          "base_uri": "https://localhost:8080/",
          "height": 295
        }
      },
      "source": [
        "plt.figure()\n",
        "lw = 2\n",
        "plt.plot(fpr, tpr, color='darkorange',\n",
        "         lw=lw, label='ROC curve (area = %0.2f)' % auc(fpr, tpr))\n",
        "plt.plot([0, 1], [0, 1], color='navy', lw=lw, linestyle='--')\n",
        "plt.xlim([0.0, 1.0])\n",
        "plt.ylim([0.0, 1.05])\n",
        "plt.xlabel('False Positive Rate')\n",
        "plt.ylabel('True Positive Rate')\n",
        "plt.title('Receiver operating characteristic example')\n",
        "plt.legend(loc=\"lower right\")\n",
        "plt.show()"
      ],
      "execution_count": 77,
      "outputs": [
        {
          "output_type": "display_data",
          "data": {
            "image/png": "[encoded data removed]",
            "text/plain": [
              "<Figure size 432x288 with 1 Axes>"
            ]
          },
          "metadata": {
            "tags": []
          }
        }
      ]
    },
    {
      "cell_type": "code",
      "metadata": {
        "id": "6Eyz2JGHuN6p",
        "colab_type": "code",
        "colab": {}
      },
      "source": [
        "clf = KNeighborsClassifier()\n",
        "#grid_values = {'n_neighbors': [x for x in range(100, 200,3)],'algorithm':['auto'], 'leaf_size': [x for x in range(50, 200, 10)], 'p': [1, 2]}\n",
        "grid_values = {'n_neighbors': [x for x in range(1, 1000, 1)],'algorithm':['auto', 'ball_tree', 'kd_tree', 'brute'], 'leaf_size': [x for x in range(1, 1000, 1)], 'p': [1, 2]}\n",
        "#grid_clf_acc = GridSearchCV(clf, param_grid = grid_values, scoring = 'precision', cv = 3, n_jobs = -1, verbose = 2)\n",
        "grid_clf_acc = RandomizedSearchCV(estimator = clf, param_distributions = grid_values, n_iter = 400, cv = 3, verbose=2, random_state=42, n_jobs = -1)\n"
      ],
      "execution_count": 0,
      "outputs": []
    },
    {
      "cell_type": "code",
      "metadata": {
        "id": "eqVACLQknAU4",
        "colab_type": "code",
        "outputId": "709c374c-5cd0-406d-df15-afe371daab26",
        "colab": {
          "base_uri": "https://localhost:8080/",
          "height": 544
        }
      },
      "source": [
        "grid_clf_acc.fit(X_train, y_train)"
      ],
      "execution_count": 0,
      "outputs": [
        {
          "output_type": "stream",
          "text": [
            "Fitting 3 folds for each of 400 candidates, totalling 1200 fits\n"
          ],
          "name": "stdout"
        },
        {
          "output_type": "stream",
          "text": [
            "[Parallel(n_jobs=-1)]: Using backend LokyBackend with 4 concurrent workers.\n",
            "[Parallel(n_jobs=-1)]: Done  33 tasks      | elapsed:  5.1min\n",
            "[Parallel(n_jobs=-1)]: Done 154 tasks      | elapsed: 17.3min\n",
            "[Parallel(n_jobs=-1)]: Done 357 tasks      | elapsed: 45.2min\n",
            "[Parallel(n_jobs=-1)]: Done 640 tasks      | elapsed: 86.3min\n",
            "[Parallel(n_jobs=-1)]: Done 1005 tasks      | elapsed: 135.2min\n",
            "[Parallel(n_jobs=-1)]: Done 1200 out of 1200 | elapsed: 157.0min finished\n"
          ],
          "name": "stderr"
        },
        {
          "output_type": "execute_result",
          "data": {
            "text/plain": [
              "RandomizedSearchCV(cv=3, error_score='raise-deprecating',\n",
              "                   estimator=KNeighborsClassifier(algorithm='auto',\n",
              "                                                  leaf_size=30,\n",
              "                                                  metric='minkowski',\n",
              "                                                  metric_params=None,\n",
              "                                                  n_jobs=None, n_neighbors=5,\n",
              "                                                  p=2, weights='uniform'),\n",
              "                   iid='warn', n_iter=400, n_jobs=-1,\n",
              "                   param_distributions={'algorithm': ['auto', 'ball_tree',\n",
              "                                                      'kd_tree', 'brute'],\n",
              "                                        'leaf_size': [1, 2, 3, 4, 5, 6, 7, 8, 9,\n",
              "                                                      10, 11, 12, 13, 14, 15,\n",
              "                                                      16, 17, 18, 19, 20, 21,\n",
              "                                                      22, 23, 24, 25, 26, 27,\n",
              "                                                      28, 29, 30, ...],\n",
              "                                        'n_neighbors': [1, 2, 3, 4, 5, 6, 7, 8,\n",
              "                                                        9, 10, 11, 12, 13, 14,\n",
              "                                                        15, 16, 17, 18, 19, 20,\n",
              "                                                        21, 22, 23, 24, 25, 26,\n",
              "                                                        27, 28, 29, 30, ...],\n",
              "                                        'p': [1, 2]},\n",
              "                   pre_dispatch='2*n_jobs', random_state=42, refit=True,\n",
              "                   return_train_score=False, scoring=None, verbose=2)"
            ]
          },
          "metadata": {
            "tags": []
          },
          "execution_count": 289
        }
      ]
    },
    {
      "cell_type": "code",
      "metadata": {
        "id": "gOlWCrHPmcQT",
        "colab_type": "code",
        "colab": {}
      },
      "source": [
        "\n",
        "pred_kneighborsclassifier = grid_clf_acc.predict(X_test)"
      ],
      "execution_count": 0,
      "outputs": []
    },
    {
      "cell_type": "code",
      "metadata": {
        "id": "qrU_ehpA5Nhf",
        "colab_type": "code",
        "outputId": "e17597dd-5070-482a-cd38-c95e08baf870",
        "colab": {
          "base_uri": "https://localhost:8080/",
          "height": 204
        }
      },
      "source": [
        "print(classification_report(y_test, pred_kneighborsclassifier))\n",
        "print(confusion_matrix(y_test, pred_kneighborsclassifier))"
      ],
      "execution_count": 0,
      "outputs": [
        {
          "output_type": "stream",
          "text": [
            "              precision    recall  f1-score   support\n",
            "\n",
            "       False       0.80      0.62      0.70      9300\n",
            "        True       0.72      0.86      0.79     10700\n",
            "\n",
            "    accuracy                           0.75     20000\n",
            "   macro avg       0.76      0.74      0.74     20000\n",
            "weighted avg       0.76      0.75      0.74     20000\n",
            "\n",
            "[[5740 3560]\n",
            " [1447 9253]]\n"
          ],
          "name": "stdout"
        }
      ]
    },
    {
      "cell_type": "code",
      "metadata": {
        "id": "wopmmKpsojod",
        "colab_type": "code",
        "outputId": "00de7db7-301c-4001-a79e-66220907b9b0",
        "colab": {
          "base_uri": "https://localhost:8080/",
          "height": 34
        }
      },
      "source": [
        "print(grid_clf_acc.best_params_)"
      ],
      "execution_count": 0,
      "outputs": [
        {
          "output_type": "stream",
          "text": [
            "{'p': 1, 'n_neighbors': 25, 'leaf_size': 352, 'algorithm': 'kd_tree'}\n"
          ],
          "name": "stdout"
        }
      ]
    },
    {
      "cell_type": "code",
      "metadata": {
        "id": "09VitaM65TNI",
        "colab_type": "code",
        "colab": {}
      },
      "source": [
        "proba = kneighborsclassifier.predict_proba(X_test)\n",
        "fpr, tpr, thresholds = roc_curve(y_test, proba[:,1])"
      ],
      "execution_count": 0,
      "outputs": []
    },
    {
      "cell_type": "code",
      "metadata": {
        "id": "8T-xbO6b5ZVF",
        "colab_type": "code",
        "outputId": "3b9f6d84-0f39-490d-e9fc-f74c5589c1a2",
        "colab": {
          "base_uri": "https://localhost:8080/",
          "height": 295
        }
      },
      "source": [
        "plt.figure()\n",
        "lw = 2\n",
        "plt.plot(fpr, tpr, color='darkorange',\n",
        "         lw=lw, label='ROC curve (area = %0.2f)' % auc(fpr, tpr))\n",
        "plt.plot([0, 1], [0, 1], color='navy', lw=lw, linestyle='--')\n",
        "plt.xlim([0.0, 1.0])\n",
        "plt.ylim([0.0, 1.05])\n",
        "plt.xlabel('False Positive Rate')\n",
        "plt.ylabel('True Positive Rate')\n",
        "plt.title('Receiver operating characteristic example')\n",
        "plt.legend(loc=\"lower right\")\n",
        "plt.show()"
      ],
      "execution_count": 92,
      "outputs": [
        {
          "output_type": "display_data",
          "data": {
            "image/png": "[encoded data removed]",
            "text/plain": [
              "<Figure size 432x288 with 1 Axes>"
            ]
          },
          "metadata": {
            "tags": []
          }
        }
      ]
    },
    {
      "cell_type": "code",
      "metadata": {
        "id": "jJ8ghHFH96cG",
        "colab_type": "code",
        "outputId": "113fd985-d9b7-433f-ed28-4d9fc89c1a51",
        "colab": {
          "base_uri": "https://localhost:8080/",
          "height": 85
        }
      },
      "source": [
        "from sklearn.metrics import accuracy_score,recall_score,precision_score,f1_score\n",
        "print('Accuracy Score : ' + str(accuracy_score(y_test, pred_kneighborsclassifier)))\n",
        "print('Precision Score : ' + str(precision_score(y_test, pred_kneighborsclassifier)))\n",
        "print('Recall Score : ' + str(recall_score(y_test, pred_kneighborsclassifier)))\n",
        "print('F1 Score : ' + str(f1_score(y_test, pred_kneighborsclassifier)))"
      ],
      "execution_count": 97,
      "outputs": [
        {
          "output_type": "stream",
          "text": [
            "Accuracy Score : 0.75245\n",
            "Precision Score : 0.7526556697469557\n",
            "Recall Score : 0.8067950379559341\n",
            "F1 Score : 0.7787855770519637\n"
          ],
          "name": "stdout"
        }
      ]
    },
    {
      "cell_type": "code",
      "metadata": {
        "id": "3neHXDsb4PAP",
        "colab_type": "code",
        "colab": {}
      },
      "source": [
        "from sklearn import svm\n",
        "clf = svm.SVC(gamma = 'scale', probability = True)\n",
        "clf.fit(X_train, y_train)\n",
        "pred_svm = clf.predict(X_test)"
      ],
      "execution_count": 0,
      "outputs": []
    },
    {
      "cell_type": "code",
      "metadata": {
        "id": "OiR207TRPfBT",
        "colab_type": "code",
        "outputId": "4ac59b8a-90c8-43ce-aeda-f074eacf35d1",
        "colab": {
          "base_uri": "https://localhost:8080/",
          "height": 85
        }
      },
      "source": [
        "print('Accuracy Score : ' + str(accuracy_score(y_test, pred_svm)))\n",
        "print('Precision Score : ' + str(precision_score(y_test, pred_svm)))\n",
        "print('Recall Score : ' + str(recall_score(y_test, pred_svm)))\n",
        "print('F1 Score : ' + str(f1_score(y_test, pred_svm)))"
      ],
      "execution_count": 99,
      "outputs": [
        {
          "output_type": "stream",
          "text": [
            "Accuracy Score : 0.7194\n",
            "Precision Score : 0.7115259210955331\n",
            "Recall Score : 0.808091094241807\n",
            "F1 Score : 0.7567403554399653\n"
          ],
          "name": "stdout"
        }
      ]
    },
    {
      "cell_type": "code",
      "metadata": {
        "id": "OjapNx9q4_gz",
        "colab_type": "code",
        "colab": {
          "base_uri": "https://localhost:8080/",
          "height": 323
        },
        "outputId": "6d274082-797b-49f6-ef6f-a3ca57e07557"
      },
      "source": [
        "proba = clf.predict_proba(X_test)\n",
        "fpr, tpr, thresholds = roc_curve(y_test, proba[:,1])"
      ],
      "execution_count": 102,
      "outputs": [
        {
          "output_type": "error",
          "ename": "AttributeError",
          "evalue": "ignored",
          "traceback": [
            "\u001b[0;31m---------------------------------------------------------------------------\u001b[0m",
            "\u001b[0;31mAttributeError\u001b[0m                            Traceback (most recent call last)",
            "\u001b[0;32m<ipython-input-102-f9357e0372a3>\u001b[0m in \u001b[0;36m<module>\u001b[0;34m()\u001b[0m\n\u001b[0;32m----> 1\u001b[0;31m \u001b[0mproba\u001b[0m \u001b[0;34m=\u001b[0m \u001b[0mclf\u001b[0m\u001b[0;34m.\u001b[0m\u001b[0mpredict_proba\u001b[0m\u001b[0;34m(\u001b[0m\u001b[0mX_test\u001b[0m\u001b[0;34m)\u001b[0m\u001b[0;34m\u001b[0m\u001b[0;34m\u001b[0m\u001b[0m\n\u001b[0m\u001b[1;32m      2\u001b[0m \u001b[0mfpr\u001b[0m\u001b[0;34m,\u001b[0m \u001b[0mtpr\u001b[0m\u001b[0;34m,\u001b[0m \u001b[0mthresholds\u001b[0m \u001b[0;34m=\u001b[0m \u001b[0mroc_curve\u001b[0m\u001b[0;34m(\u001b[0m\u001b[0my_test\u001b[0m\u001b[0;34m,\u001b[0m \u001b[0mproba\u001b[0m\u001b[0;34m[\u001b[0m\u001b[0;34m:\u001b[0m\u001b[0;34m,\u001b[0m\u001b[0;36m1\u001b[0m\u001b[0;34m]\u001b[0m\u001b[0;34m)\u001b[0m\u001b[0;34m\u001b[0m\u001b[0;34m\u001b[0m\u001b[0m\n",
            "\u001b[0;32m/usr/local/lib/python3.6/dist-packages/sklearn/svm/base.py\u001b[0m in \u001b[0;36mpredict_proba\u001b[0;34m(self)\u001b[0m\n\u001b[1;32m    614\u001b[0m         \u001b[0mdatasets\u001b[0m\u001b[0;34m.\u001b[0m\u001b[0;34m\u001b[0m\u001b[0;34m\u001b[0m\u001b[0m\n\u001b[1;32m    615\u001b[0m         \"\"\"\n\u001b[0;32m--> 616\u001b[0;31m         \u001b[0mself\u001b[0m\u001b[0;34m.\u001b[0m\u001b[0m_check_proba\u001b[0m\u001b[0;34m(\u001b[0m\u001b[0;34m)\u001b[0m\u001b[0;34m\u001b[0m\u001b[0;34m\u001b[0m\u001b[0m\n\u001b[0m\u001b[1;32m    617\u001b[0m         \u001b[0;32mreturn\u001b[0m \u001b[0mself\u001b[0m\u001b[0;34m.\u001b[0m\u001b[0m_predict_proba\u001b[0m\u001b[0;34m\u001b[0m\u001b[0;34m\u001b[0m\u001b[0m\n\u001b[1;32m    618\u001b[0m \u001b[0;34m\u001b[0m\u001b[0m\n",
            "\u001b[0;32m/usr/local/lib/python3.6/dist-packages/sklearn/svm/base.py\u001b[0m in \u001b[0;36m_check_proba\u001b[0;34m(self)\u001b[0m\n\u001b[1;32m    581\u001b[0m     \u001b[0;32mdef\u001b[0m \u001b[0m_check_proba\u001b[0m\u001b[0;34m(\u001b[0m\u001b[0mself\u001b[0m\u001b[0;34m)\u001b[0m\u001b[0;34m:\u001b[0m\u001b[0;34m\u001b[0m\u001b[0;34m\u001b[0m\u001b[0m\n\u001b[1;32m    582\u001b[0m         \u001b[0;32mif\u001b[0m \u001b[0;32mnot\u001b[0m \u001b[0mself\u001b[0m\u001b[0;34m.\u001b[0m\u001b[0mprobability\u001b[0m\u001b[0;34m:\u001b[0m\u001b[0;34m\u001b[0m\u001b[0;34m\u001b[0m\u001b[0m\n\u001b[0;32m--> 583\u001b[0;31m             raise AttributeError(\"predict_proba is not available when \"\n\u001b[0m\u001b[1;32m    584\u001b[0m                                  \" probability=False\")\n\u001b[1;32m    585\u001b[0m         \u001b[0;32mif\u001b[0m \u001b[0mself\u001b[0m\u001b[0;34m.\u001b[0m\u001b[0m_impl\u001b[0m \u001b[0;32mnot\u001b[0m \u001b[0;32min\u001b[0m \u001b[0;34m(\u001b[0m\u001b[0;34m'c_svc'\u001b[0m\u001b[0;34m,\u001b[0m \u001b[0;34m'nu_svc'\u001b[0m\u001b[0;34m)\u001b[0m\u001b[0;34m:\u001b[0m\u001b[0;34m\u001b[0m\u001b[0;34m\u001b[0m\u001b[0m\n",
            "\u001b[0;31mAttributeError\u001b[0m: predict_proba is not available when  probability=False"
          ]
        }
      ]
    },
    {
      "cell_type": "code",
      "metadata": {
        "id": "GexsvSYy46z1",
        "colab_type": "code",
        "colab": {}
      },
      "source": [
        "plt.figure()\n",
        "lw = 2\n",
        "plt.plot(fpr, tpr, color='darkorange',\n",
        "         lw=lw, label='ROC curve (area = %0.2f)' % auc(fpr, tpr))\n",
        "plt.plot([0, 1], [0, 1], color='navy', lw=lw, linestyle='--')\n",
        "plt.xlim([0.0, 1.0])\n",
        "plt.ylim([0.0, 1.05])\n",
        "plt.xlabel('False Positive Rate')\n",
        "plt.ylabel('True Positive Rate')\n",
        "plt.title('Receiver operating characteristic example')\n",
        "plt.legend(loc=\"lower right\")\n",
        "plt.show()"
      ],
      "execution_count": 0,
      "outputs": []
    }
  ]
}